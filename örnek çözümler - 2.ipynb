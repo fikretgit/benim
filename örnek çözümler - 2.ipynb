{
 "cells": [
  {
   "cell_type": "code",
   "execution_count": 49,
   "metadata": {},
   "outputs": [
    {
     "name": "stdout",
     "output_type": "stream",
     "text": [
      "True (uses both hand fingers)\n"
     ]
    }
   ],
   "source": [
    "left_hand = [\"a\", \"s\", \"d\", \"f\", \"g\", \"q\", \"w\", \"e\", \"r\", \"t\", \"z\", \"x\", \"c\", \"v\", \"b\"]\n",
    "right_hand = [\"j\", \"k\", \"l\", \"i\", \"h\", \"u\", \"o\", \"p\", \"n\", \"m\", \"y\"]\n",
    "given = input(str(\"type a sentence: \"))\n",
    "given = set(given)\n",
    "\n",
    "if given.isdisjoint(right_hand):\n",
    "    print(\"False (uses only left-hand fingers)\")\n",
    "    \n",
    "elif given.isdisjoint(left_hand):\n",
    "    print(\"False (uses only right-hand fingers)\") \n",
    "    \n",
    "else:\n",
    "    print(\"True (uses both hand fingers)\")\n",
    "    \n",
    "    \n"
   ]
  },
  {
   "cell_type": "code",
   "execution_count": 25,
   "metadata": {},
   "outputs": [
    {
     "name": "stdout",
     "output_type": "stream",
     "text": [
      "True\n"
     ]
    }
   ],
   "source": [
    "left_hand = [\"a\", \"s\", \"d\", \"f\", \"g\", \"q\", \"w\", \"e\", \"r\", \"t\", \"z\", \"x\", \"c\", \"v\", \"b\"]\n",
    "right_hand = [\"j\", \"k\", \"l\", \"i\", \"h\", \"u\", \"o\", \"p\", \"n\", \"m\", \"y\"]\n",
    "given = input(str(\"type a sentence: \"))\n",
    "given = set(given)\n",
    "\n",
    "output = bool(given.intersection(left_hand) and given.intersection(right_hand))\n",
    "print(output)"
   ]
  },
  {
   "cell_type": "code",
   "execution_count": 32,
   "metadata": {},
   "outputs": [
    {
     "ename": "SyntaxError",
     "evalue": "invalid syntax (Temp/ipykernel_2996/4057292480.py, line 1)",
     "output_type": "error",
     "traceback": [
      "\u001b[1;36m  File \u001b[1;32m\"C:\\Users\\acer\\AppData\\Local\\Temp/ipykernel_2996/4057292480.py\"\u001b[1;36m, line \u001b[1;32m1\u001b[0m\n\u001b[1;33m    given & (set(left_hand) and set(right_hand)):\u001b[0m\n\u001b[1;37m                                                 ^\u001b[0m\n\u001b[1;31mSyntaxError\u001b[0m\u001b[1;31m:\u001b[0m invalid syntax\n"
     ]
    }
   ],
   "source": [
    "given & (set(left_hand) and set(right_hand)):\n",
    "    "
   ]
  },
  {
   "cell_type": "code",
   "execution_count": 3,
   "metadata": {},
   "outputs": [
    {
     "name": "stdout",
     "output_type": "stream",
     "text": [
      "{'name1': 'fikret', 'name2': 'mesut', 'name3': 'ismet', 'name4': 'sabahat'}\n"
     ]
    }
   ],
   "source": [
    "family = {\n",
    "           \"name1\" : \"fikret\",\n",
    "           \"name2\" : \"mesut\",\n",
    "           \"name3\" : \"ismet\"\n",
    "        }\n",
    "family[\"name4\"] = \"sabahat\"\n",
    "print(family)"
   ]
  },
  {
   "cell_type": "code",
   "execution_count": 22,
   "metadata": {},
   "outputs": [
    {
     "data": {
      "text/plain": [
       "{'name1': 'fikret', 'name2': 'mesut', 'name4': 'sabahat'}"
      ]
     },
     "execution_count": 22,
     "metadata": {},
     "output_type": "execute_result"
    }
   ],
   "source": [
    "family = dict(name1=\"fikret\", name2=\"mesut\")\n",
    "family.update(name4=\"sabahat\")\n",
    "family"
   ]
  },
  {
   "cell_type": "code",
   "execution_count": 39,
   "metadata": {},
   "outputs": [
    {
     "name": "stdout",
     "output_type": "stream",
     "text": [
      "['van', 'ağrı', 'ankara', 'istanbul']\n"
     ]
    }
   ],
   "source": [
    "sehirler = [\"istanbul\", \"ağrı\", \"ankara\", \"van\"]\n",
    "uzunluk = sorted(sehirler, key = len)\n",
    "print(uzunluk)\n"
   ]
  },
  {
   "cell_type": "code",
   "execution_count": 1,
   "metadata": {},
   "outputs": [
    {
     "name": "stdout",
     "output_type": "stream",
     "text": [
      "0\n"
     ]
    }
   ],
   "source": [
    "print(\"xyyzxyzxzxyy\".count('xyy', 2, 11))"
   ]
  },
  {
   "cell_type": "code",
   "execution_count": 2,
   "metadata": {},
   "outputs": [
    {
     "name": "stdout",
     "output_type": "stream",
     "text": [
      "['ab', 'ef', 'gh', '']\n"
     ]
    }
   ],
   "source": [
    "print('abcdefcdghcd'.split('cd'))"
   ]
  },
  {
   "cell_type": "code",
   "execution_count": 4,
   "metadata": {},
   "outputs": [
    {
     "name": "stdout",
     "output_type": "stream",
     "text": [
      "ay"
     ]
    }
   ],
   "source": [
    "x = input(\"Kısaltmasını öğrenmek istediğiniz kurum adını girin: \")\n",
    "\n",
    "for i in x.split():\n",
    "    print(i[0], end=\"\")"
   ]
  },
  {
   "cell_type": "code",
   "execution_count": 98,
   "metadata": {},
   "outputs": [
    {
     "data": {
      "text/plain": [
       "1"
      ]
     },
     "execution_count": 98,
     "metadata": {},
     "output_type": "execute_result"
    }
   ],
   "source": [
    "a = int(input())\n",
    "x = int(a/2 +1)\n",
    "x"
   ]
  },
  {
   "cell_type": "code",
   "execution_count": 133,
   "metadata": {},
   "outputs": [
    {
     "name": "stdout",
     "output_type": "stream",
     "text": [
      "19 is a prime number\n"
     ]
    }
   ],
   "source": [
    "given = int(input(\"give a number then we'll check if it's prime number or not: \"))\n",
    "for i in range(2,given):\n",
    "    if (given % i) == 0:\n",
    "        print(f\"{given} is not a prime number\")\n",
    "        break\n",
    "else:\n",
    "    print(f\"{given} is a prime number\")\n",
    "\n",
    "\n"
   ]
  },
  {
   "cell_type": "code",
   "execution_count": 1,
   "metadata": {},
   "outputs": [
    {
     "name": "stdout",
     "output_type": "stream",
     "text": [
      "abc\n"
     ]
    }
   ],
   "source": [
    "print(\"a\"+\"bc\")"
   ]
  },
  {
   "cell_type": "code",
   "execution_count": 2,
   "metadata": {},
   "outputs": [
    {
     "data": {
      "text/plain": [
       "3"
      ]
     },
     "execution_count": 2,
     "metadata": {},
     "output_type": "execute_result"
    }
   ],
   "source": [
    "3*1**3"
   ]
  },
  {
   "cell_type": "code",
   "execution_count": 7,
   "metadata": {},
   "outputs": [
    {
     "data": {
      "text/plain": [
       "'C:\\\\Users\\\\acer\\\\Documents\\\\benim'"
      ]
     },
     "execution_count": 7,
     "metadata": {},
     "output_type": "execute_result"
    }
   ],
   "source": [
    "pwd(upper_package/)"
   ]
  },
  {
   "cell_type": "code",
   "execution_count": 8,
   "metadata": {},
   "outputs": [
    {
     "ename": "NameError",
     "evalue": "name 'pwd' is not defined",
     "output_type": "error",
     "traceback": [
      "\u001b[1;31m---------------------------------------------------------------------------\u001b[0m",
      "\u001b[1;31mNameError\u001b[0m                                 Traceback (most recent call last)",
      "\u001b[1;32m<ipython-input-8-040676ba0f11>\u001b[0m in \u001b[0;36m<module>\u001b[1;34m\u001b[0m\n\u001b[1;32m----> 1\u001b[1;33m \u001b[1;32mfrom\u001b[0m \u001b[0mupper_package\u001b[0m \u001b[1;32mimport\u001b[0m \u001b[0mmy_package1\u001b[0m\u001b[1;33m,\u001b[0m \u001b[0mmy_package2\u001b[0m\u001b[1;33m\u001b[0m\u001b[1;33m\u001b[0m\u001b[0m\n\u001b[0m",
      "\u001b[1;32m~\\Documents\\benim\\upper_package\\__init__.py\u001b[0m in \u001b[0;36m<module>\u001b[1;34m\u001b[0m\n\u001b[1;32m----> 1\u001b[1;33m \u001b[0mpwd\u001b[0m\u001b[1;33m(\u001b[0m\u001b[1;33m)\u001b[0m\u001b[1;33m\u001b[0m\u001b[1;33m\u001b[0m\u001b[0m\n\u001b[0m",
      "\u001b[1;31mNameError\u001b[0m: name 'pwd' is not defined"
     ]
    }
   ],
   "source": [
    "from upper_package import my_package1, my_package2"
   ]
  },
  {
   "cell_type": "code",
   "execution_count": null,
   "metadata": {},
   "outputs": [],
   "source": []
  },
  {
   "cell_type": "code",
   "execution_count": null,
   "metadata": {},
   "outputs": [],
   "source": []
  },
  {
   "cell_type": "code",
   "execution_count": null,
   "metadata": {},
   "outputs": [],
   "source": []
  },
  {
   "cell_type": "code",
   "execution_count": null,
   "metadata": {},
   "outputs": [],
   "source": []
  },
  {
   "cell_type": "code",
   "execution_count": null,
   "metadata": {},
   "outputs": [],
   "source": []
  },
  {
   "cell_type": "code",
   "execution_count": null,
   "metadata": {},
   "outputs": [],
   "source": []
  },
  {
   "cell_type": "code",
   "execution_count": null,
   "metadata": {},
   "outputs": [],
   "source": []
  },
  {
   "cell_type": "code",
   "execution_count": null,
   "metadata": {},
   "outputs": [],
   "source": []
  },
  {
   "cell_type": "code",
   "execution_count": null,
   "metadata": {},
   "outputs": [],
   "source": []
  },
  {
   "cell_type": "code",
   "execution_count": null,
   "metadata": {},
   "outputs": [],
   "source": []
  },
  {
   "cell_type": "code",
   "execution_count": null,
   "metadata": {},
   "outputs": [],
   "source": []
  },
  {
   "cell_type": "code",
   "execution_count": null,
   "metadata": {},
   "outputs": [],
   "source": []
  },
  {
   "cell_type": "code",
   "execution_count": null,
   "metadata": {},
   "outputs": [],
   "source": []
  },
  {
   "cell_type": "code",
   "execution_count": null,
   "metadata": {},
   "outputs": [],
   "source": []
  },
  {
   "cell_type": "code",
   "execution_count": null,
   "metadata": {},
   "outputs": [],
   "source": []
  },
  {
   "cell_type": "code",
   "execution_count": null,
   "metadata": {},
   "outputs": [],
   "source": []
  }
 ],
 "metadata": {
  "interpreter": {
   "hash": "43435a050d4ac362dc4b1b4851a0333547cf4819a4e47175b9a0f2919a9b0b1b"
  },
  "kernelspec": {
   "display_name": "Python 3",
   "language": "python",
   "name": "python3"
  },
  "language_info": {
   "codemirror_mode": {
    "name": "ipython",
    "version": 3
   },
   "file_extension": ".py",
   "mimetype": "text/x-python",
   "name": "python",
   "nbconvert_exporter": "python",
   "pygments_lexer": "ipython3",
   "version": "3.8.8"
  }
 },
 "nbformat": 4,
 "nbformat_minor": 2
}
