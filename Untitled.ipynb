{
 "cells": [
  {
   "cell_type": "code",
   "execution_count": 1,
   "id": "4436c671",
   "metadata": {},
   "outputs": [
    {
     "data": {
      "text/plain": [
       "'C:\\\\Users\\\\acer\\\\Documents\\\\benim'"
      ]
     },
     "execution_count": 1,
     "metadata": {},
     "output_type": "execute_result"
    }
   ],
   "source": [
    "pwd"
   ]
  },
  {
   "cell_type": "code",
   "execution_count": 2,
   "id": "b9ec296f",
   "metadata": {},
   "outputs": [
    {
     "name": "stdout",
     "output_type": "stream",
     "text": [
      "C:\\Users\\acer\\Documents\n"
     ]
    }
   ],
   "source": [
    "cd ..\n"
   ]
  },
  {
   "cell_type": "code",
   "execution_count": 3,
   "id": "5784a141",
   "metadata": {},
   "outputs": [
    {
     "name": "stdout",
     "output_type": "stream",
     "text": [
      " Volume in drive C has no label.\n",
      " Volume Serial Number is 6A32-4FAD\n",
      "\n",
      " Directory of C:\\Users\\acer\\Documents\n",
      "\n",
      "29.11.2021  18:08    <DIR>          .\n",
      "29.11.2021  18:08    <DIR>          ..\n",
      "02.12.2021  21:36    <DIR>          benim\n",
      "01.12.2021  19:11    <DIR>          CLARUSWAY - PRE CLASSES\n",
      "11.11.2021  00:00    <DIR>          clarusway-it-fundamentals-10-21-Git'den indi\n",
      "29.11.2021  09:56            87.737 Div - Span Element.png\n",
      "21.10.2021  18:39    <DIR>          download\n",
      "22.09.2021  10:38         3.055.851 evrak_6431320054.pdf\n",
      "11.10.2021  18:54    <DIR>          My Videos\n",
      "13.11.2021  13:26    <DIR>          my-working\n",
      "11.10.2021  17:20    <DIR>          Python Scripts\n",
      "11.10.2021  16:40    <DIR>          SCRATCH\n",
      "15.09.2021  10:08         2.039.477 tahir bey.pdf\n",
      "24.09.2021  22:26             1.223 title screen.svg\n",
      "11.10.2021  15:03    <DIR>          Youcam\n",
      "30.11.2021  22:17    <DIR>          Zoom\n",
      "               4 File(s)      5.184.288 bytes\n",
      "              12 Dir(s)  19.202.506.752 bytes free\n"
     ]
    }
   ],
   "source": [
    "ls\n"
   ]
  },
  {
   "cell_type": "code",
   "execution_count": 4,
   "id": "62e10d88",
   "metadata": {},
   "outputs": [
    {
     "name": "stdout",
     "output_type": "stream",
     "text": [
      "C:\\Users\\acer\\Documents\\download\n"
     ]
    }
   ],
   "source": [
    "cd download/\n"
   ]
  },
  {
   "cell_type": "code",
   "execution_count": 5,
   "id": "6700f3b6",
   "metadata": {},
   "outputs": [
    {
     "name": "stdout",
     "output_type": "stream",
     "text": [
      " Volume in drive C has no label.\n",
      " Volume Serial Number is 6A32-4FAD\n",
      "\n",
      " Directory of C:\\Users\\acer\\Documents\\download\n",
      "\n",
      "21.10.2021  18:39    <DIR>          .\n",
      "21.10.2021  18:39    <DIR>          ..\n",
      "27.09.2021  23:16       500.375.944 Anaconda3-2021.05-Windows-x86_64.exe\n",
      "08.07.2019  14:32         1.947.439 AYM BaŸvuru Formu.pdf\n",
      "08.07.2019  14:32         1.947.439 bb_formu - Kopya.pdf\n",
      "10.09.2021  20:47         1.717.944 cpu-z_1.79-en.exe\n",
      "05.08.2003  15:24         2.833.921 EraserSetup.exe\n",
      "21.10.2021  18:18        50.186.136 Git-2.33.1-64-bit.exe\n",
      "17.09.2021  14:06         3.806.720 NAVPlusDownloader.exe\n",
      "17.09.2021  14:06             1.365 Norton Installation Files.lnk\n",
      "22.09.2021  14:58        28.895.456 python-3.9.7-amd64.exe\n",
      "18.09.2021  15:34        95.470.912 SlackSetup.exe\n",
      "17.09.2021  23:21        41.372.992 vlc-3.0.16-win32.exe\n",
      "22.09.2021  15:06        79.591.064 VSCodeUserSetup-x64-1.60.1.exe\n",
      "18.09.2021  08:21        16.541.192 ZoomInstaller.exe\n",
      "              13 File(s)    824.688.524 bytes\n",
      "               2 Dir(s)  19.202.506.752 bytes free\n"
     ]
    }
   ],
   "source": [
    "ls"
   ]
  },
  {
   "cell_type": "code",
   "execution_count": 6,
   "id": "64ea66bf",
   "metadata": {},
   "outputs": [
    {
     "name": "stdout",
     "output_type": "stream",
     "text": [
      "C:\\Users\\acer\\Documents\n"
     ]
    }
   ],
   "source": [
    "cd ..\n"
   ]
  },
  {
   "cell_type": "code",
   "execution_count": 7,
   "id": "c5c3a2f6",
   "metadata": {},
   "outputs": [
    {
     "name": "stdout",
     "output_type": "stream",
     "text": [
      "C:\\Users\\acer\\Documents\\benim\n"
     ]
    }
   ],
   "source": [
    "cd benim\n"
   ]
  },
  {
   "cell_type": "code",
   "execution_count": 9,
   "id": "5bcc6979",
   "metadata": {},
   "outputs": [
    {
     "ename": "NameError",
     "evalue": "name 'upper_package' is not defined",
     "output_type": "error",
     "traceback": [
      "\u001b[1;31m---------------------------------------------------------------------------\u001b[0m",
      "\u001b[1;31mNameError\u001b[0m                                 Traceback (most recent call last)",
      "\u001b[1;32m<ipython-input-9-4f30f7830ccb>\u001b[0m in \u001b[0;36m<module>\u001b[1;34m\u001b[0m\n\u001b[1;32m----> 1\u001b[1;33m \u001b[0mdir\u001b[0m\u001b[1;33m(\u001b[0m\u001b[0mupper_package\u001b[0m\u001b[1;33m)\u001b[0m\u001b[1;33m\u001b[0m\u001b[1;33m\u001b[0m\u001b[0m\n\u001b[0m",
      "\u001b[1;31mNameError\u001b[0m: name 'upper_package' is not defined"
     ]
    }
   ],
   "source": [
    "dir(upper_package)"
   ]
  },
  {
   "cell_type": "code",
   "execution_count": 14,
   "id": "17227dae",
   "metadata": {},
   "outputs": [
    {
     "name": "stdout",
     "output_type": "stream",
     "text": [
      "C:\\Users\\acer\\Documents\\benim\\upper_package\n"
     ]
    }
   ],
   "source": [
    "cd upper_package/"
   ]
  },
  {
   "cell_type": "code",
   "execution_count": 17,
   "id": "893cd352",
   "metadata": {},
   "outputs": [
    {
     "data": {
      "text/plain": [
       "'C:\\\\Users\\\\acer\\\\Documents\\\\benim\\\\upper_package'"
      ]
     },
     "execution_count": 17,
     "metadata": {},
     "output_type": "execute_result"
    }
   ],
   "source": [
    "pwd()"
   ]
  },
  {
   "cell_type": "code",
   "execution_count": 20,
   "id": "165d9dfd",
   "metadata": {},
   "outputs": [
    {
     "ename": "NameError",
     "evalue": "name 'my_package' is not defined",
     "output_type": "error",
     "traceback": [
      "\u001b[1;31m---------------------------------------------------------------------------\u001b[0m",
      "\u001b[1;31mNameError\u001b[0m                                 Traceback (most recent call last)",
      "\u001b[1;32m<ipython-input-20-36dccf14167c>\u001b[0m in \u001b[0;36m<module>\u001b[1;34m\u001b[0m\n\u001b[1;32m----> 1\u001b[1;33m \u001b[0mdir\u001b[0m\u001b[1;33m(\u001b[0m\u001b[0mmy_package\u001b[0m\u001b[1;33m)\u001b[0m\u001b[1;33m\u001b[0m\u001b[1;33m\u001b[0m\u001b[0m\n\u001b[0m",
      "\u001b[1;31mNameError\u001b[0m: name 'my_package' is not defined"
     ]
    }
   ],
   "source": [
    "dir(my_package)"
   ]
  },
  {
   "cell_type": "code",
   "execution_count": null,
   "id": "e14104b1",
   "metadata": {},
   "outputs": [],
   "source": []
  },
  {
   "cell_type": "code",
   "execution_count": null,
   "id": "e3e0510a",
   "metadata": {},
   "outputs": [],
   "source": []
  },
  {
   "cell_type": "code",
   "execution_count": null,
   "id": "0f4e6baa",
   "metadata": {},
   "outputs": [],
   "source": []
  },
  {
   "cell_type": "code",
   "execution_count": null,
   "id": "7559c577",
   "metadata": {},
   "outputs": [],
   "source": []
  },
  {
   "cell_type": "code",
   "execution_count": null,
   "id": "3d8500b2",
   "metadata": {},
   "outputs": [],
   "source": []
  },
  {
   "cell_type": "code",
   "execution_count": null,
   "id": "f66c3725",
   "metadata": {},
   "outputs": [],
   "source": []
  },
  {
   "cell_type": "code",
   "execution_count": null,
   "id": "02764a7b",
   "metadata": {},
   "outputs": [],
   "source": []
  },
  {
   "cell_type": "code",
   "execution_count": null,
   "id": "d246a412",
   "metadata": {},
   "outputs": [],
   "source": []
  }
 ],
 "metadata": {
  "kernelspec": {
   "display_name": "Python 3",
   "language": "python",
   "name": "python3"
  },
  "language_info": {
   "codemirror_mode": {
    "name": "ipython",
    "version": 3
   },
   "file_extension": ".py",
   "mimetype": "text/x-python",
   "name": "python",
   "nbconvert_exporter": "python",
   "pygments_lexer": "ipython3",
   "version": "3.8.8"
  }
 },
 "nbformat": 4,
 "nbformat_minor": 5
}
