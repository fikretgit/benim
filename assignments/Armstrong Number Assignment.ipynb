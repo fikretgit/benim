{
 "cells": [
  {
   "cell_type": "markdown",
   "metadata": {},
   "source": [
    "Task:\n",
    "\n",
    "Find out if a given number is an \"Armstrong Number\".\n",
    "\n",
    "An n-digit number that is the sum of the nth powers of its digits is called an n-Armstrong number. Examples :\n",
    "371 = 3**3 + 7**3 + 1**3;\n",
    "9474 = 9**4 + 4**4 + 7**4 + 4**4;\n",
    "93084 = 9**5 + 3**5 + 0**5 + 8**5 + 4**5.\n",
    "\n",
    "Write a Python program that;\n",
    "takes a positive integer number from the user,\n",
    "checks the entered number if it is Armstrong,\n",
    "consider the negative, float and any entries other than numeric values then display a warning message to the user.\n",
    "\n",
    "Examples\n",
    "Sample inputs\tOutputs\n",
    "407\t                    407 is an Armstrong number\n",
    "5\t                    5 is an Armstrong number\n",
    " -153\t                It is an invalid entry. Don't use non-numeric, float, or negative values!\n",
    " 153.87 or 153,87\t    It is an invalid entry. Don't use non-numeric, float, or negative values!\n",
    " one\t                It is an invalid entry. Don't use non-numeric, float, or negative values!\n",
    " 121\t                121 is not an Armstrong number"
   ]
  },
  {
   "cell_type": "code",
   "execution_count": 4,
   "metadata": {},
   "outputs": [
    {
     "name": "stdout",
     "output_type": "stream",
     "text": [
      "371 is an Armstrong Number\n"
     ]
    }
   ],
   "source": [
    "given = input(\"write a number we'll check if it is an Armstrong Number or not: \")\n",
    "if given.isdigit() == True and int(given) > 0:\n",
    "  number = sum([int(i) ** len(given) for i in given])\n",
    "  if number == int(given):\n",
    "    print(f\"{given} is an Armstrong Number\")\n",
    "  else:\n",
    "    print(f\"{given} is not an Armstrong Number\")\n",
    "else:\n",
    "  print(f\"{given} is an invalid entry. Don't use non-numeric, float or negative values!\")\n"
   ]
  }
 ],
 "metadata": {
  "interpreter": {
   "hash": "43435a050d4ac362dc4b1b4851a0333547cf4819a4e47175b9a0f2919a9b0b1b"
  },
  "kernelspec": {
   "display_name": "Python 3.9.7 64-bit",
   "language": "python",
   "name": "python3"
  },
  "language_info": {
   "codemirror_mode": {
    "name": "ipython",
    "version": 3
   },
   "file_extension": ".py",
   "mimetype": "text/x-python",
   "name": "python",
   "nbconvert_exporter": "python",
   "pygments_lexer": "ipython3",
   "version": "3.9.7"
  },
  "orig_nbformat": 4
 },
 "nbformat": 4,
 "nbformat_minor": 2
}
