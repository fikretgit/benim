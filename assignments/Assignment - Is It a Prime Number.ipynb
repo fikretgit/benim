{
 "cells": [
  {
   "cell_type": "markdown",
   "metadata": {},
   "source": [
    "Assignment - 10/04 (Is It a Prime Number?)\n",
    "Opened: Wednesday, 17 November 2021, 12:00 AM\n",
    "Due: Wednesday, 24 November 2021, 12:00 AM\n",
    "\n",
    "Task : Write a program that takes a number from the user and prints the result to check if it is a prime number.\n",
    "\n",
    "The examples of the desired output are as follows :\n",
    "\n",
    "input →  19 ⇉ output : 19 is a prime number\n",
    "input →  10 ⇉ output : 10 is not a prime number"
   ]
  },
  {
   "cell_type": "code",
   "execution_count": 8,
   "metadata": {},
   "outputs": [
    {
     "name": "stdout",
     "output_type": "stream",
     "text": [
      "13 is a Prime Number!\n"
     ]
    }
   ],
   "source": [
    "num = int(input(\"write a number we'll check if it is a Prime Number or not: \"))\n",
    "counter = 0\n",
    "for i in range(2, num):\n",
    "    if num % i == 0:\n",
    "        counter += 1\n",
    "        break\n",
    "if counter == 0:\n",
    "    print(f\"{num} is a Prime Number!\")\n",
    "else:\n",
    "    print(f\"{num} is not a Prime Number\")"
   ]
  }
 ],
 "metadata": {
  "interpreter": {
   "hash": "43435a050d4ac362dc4b1b4851a0333547cf4819a4e47175b9a0f2919a9b0b1b"
  },
  "kernelspec": {
   "display_name": "Python 3.9.7 64-bit",
   "language": "python",
   "name": "python3"
  },
  "language_info": {
   "codemirror_mode": {
    "name": "ipython",
    "version": 3
   },
   "file_extension": ".py",
   "mimetype": "text/x-python",
   "name": "python",
   "nbconvert_exporter": "python",
   "pygments_lexer": "ipython3",
   "version": "3.9.7"
  },
  "orig_nbformat": 4
 },
 "nbformat": 4,
 "nbformat_minor": 2
}
