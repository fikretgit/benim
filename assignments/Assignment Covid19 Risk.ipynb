{
 "cells": [
  {
   "cell_type": "markdown",
   "metadata": {},
   "source": [
    "Assignment - 10/02 (Covid-19 Risk with If Statements)\n",
    "Opened: Sunday, 7 November 2021, 12:00 AM\n",
    "Due: Sunday, 14 November 2021, 12:00 AM\n",
    "\n",
    "Problem :\n",
    "\n",
    "Task : Estimating the risk of death from coronavirus. Write a program that;\n",
    "\n",
    "Takes \"Yes\" or \"No\" from the user as an answer to the following questions :\n",
    "\n",
    "Are you a cigarette addict older than 75 years old? Variable → age\n",
    "\n",
    "Do you have a severe chronic disease? Variable → chronic\n",
    "\n",
    "Is your immune system too weak? Variable → immune\n",
    "\n",
    "Set a logical algorithm using boolean logic operators (and/or) and use if-statements with the given variables in order to print out us a message : \"You are in risky group\"(if True ) or \"You are not in risky group\" (if False).\n",
    "age =  # can be assigned only True/False\n",
    "chronic =  # can be assigned only True/False\n",
    "immune =  # can be assigned only True/False\n",
    "risk = ?"
   ]
  },
  {
   "cell_type": "code",
   "execution_count": 1,
   "metadata": {},
   "outputs": [
    {
     "name": "stdout",
     "output_type": "stream",
     "text": [
      "You are in risky group\n"
     ]
    }
   ],
   "source": [
    "c_addict = input(\"Are you a cigarette addict older than 75 years old?: (Yes or No)\")\n",
    "chronic = input(\"Do you have a severe chronic disease?: (Yes or No)\")\n",
    "immune = input(\"Is your immune system too weak?: (Yes or No)\")\n",
    "if (c_addict == \"yes\" or chronic == \"yes\" or immune == \"yes\"):\n",
    "    print(\"You are in risky group\")\n",
    "else:\n",
    "    print(\"You are not in risky group\")\n"
   ]
  }
 ],
 "metadata": {
  "interpreter": {
   "hash": "43435a050d4ac362dc4b1b4851a0333547cf4819a4e47175b9a0f2919a9b0b1b"
  },
  "kernelspec": {
   "display_name": "Python 3.9.7 64-bit",
   "language": "python",
   "name": "python3"
  },
  "language_info": {
   "codemirror_mode": {
    "name": "ipython",
    "version": 3
   },
   "file_extension": ".py",
   "mimetype": "text/x-python",
   "name": "python",
   "nbconvert_exporter": "python",
   "pygments_lexer": "ipython3",
   "version": "3.9.7"
  },
  "orig_nbformat": 4
 },
 "nbformat": 4,
 "nbformat_minor": 2
}
