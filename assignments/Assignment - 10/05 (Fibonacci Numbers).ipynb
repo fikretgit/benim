{
 "cells": [
  {
   "cell_type": "code",
   "execution_count": 1,
   "metadata": {},
   "outputs": [
    {
     "name": "stdout",
     "output_type": "stream",
     "text": [
      "[1, 1, 2, 3, 5, 8, 13, 21, 34, 55]\n"
     ]
    }
   ],
   "source": [
    "fibonacci = [1]\n",
    "listem = [0,1]\n",
    "sayaç = 1\n",
    "\n",
    "while fibonacci[-1] <= 55:\n",
    "    sayı = listem[sayaç - 1] + listem[sayaç]\n",
    "    listem.append(sayı)\n",
    "    fibonacci.append(sayı)\n",
    "    sayaç += 1\n",
    "    if sayı == 55:\n",
    "        break\n",
    "    \n",
    "print(fibonacci)\n",
    "    "
   ]
  }
 ],
 "metadata": {
  "interpreter": {
   "hash": "43435a050d4ac362dc4b1b4851a0333547cf4819a4e47175b9a0f2919a9b0b1b"
  },
  "kernelspec": {
   "display_name": "Python 3.9.7 64-bit",
   "language": "python",
   "name": "python3"
  },
  "language_info": {
   "codemirror_mode": {
    "name": "ipython",
    "version": 3
   },
   "file_extension": ".py",
   "mimetype": "text/x-python",
   "name": "python",
   "nbconvert_exporter": "python",
   "pygments_lexer": "ipython3",
   "version": "3.9.7"
  },
  "orig_nbformat": 4
 },
 "nbformat": 4,
 "nbformat_minor": 2
}
