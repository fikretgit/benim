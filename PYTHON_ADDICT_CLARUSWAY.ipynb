{
  "cells": [
    {
      "cell_type": "markdown",
      "metadata": {
        "id": "NM92aG3CxfK8"
      },
      "source": [
        "1\n",
        "**Try to find out if a number you get from the user is perfect.\n",
        "A number is called a \"perfect number\" if the sum of its divisors is equal to itself. For example, 6 is a perfect number. (1 + 2 + 3 = 6)**"
      ]
    },
    {
      "cell_type": "code",
      "execution_count": 11,
      "metadata": {},
      "outputs": [
        {
          "name": "stdout",
          "output_type": "stream",
          "text": [
            "8128 is a perfect number\n"
          ]
        }
      ],
      "source": [
        "a = 0\n",
        "number=int(input(\"give us number we will check if it is perfect number: \"))\n",
        "for i in range(1,number):\n",
        "    if number % i == 0:\n",
        "        a += i\n",
        "if a == number:\n",
        "    print(\"{} is a perfect number\".format(number))\n",
        "else:\n",
        "    print(\"{} is not a perfect number\".format(number))"
      ]
    },
    {
      "cell_type": "code",
      "execution_count": null,
      "metadata": {
        "id": "5e0fLl4sxoui"
      },
      "outputs": [],
      "source": [
        "# Try to find out if a number you get from the user is perfect.\n",
        "# A number is called a \"perfect number\" if the sum of its divisors is equal to itself. For example, 6 is a perfect number. (1 + 2 + 3 = 6)\n",
        "num = int(input(\"\"))\n",
        "total = sum([i for i in range(1,num) if num % i == 0])\n",
        "if total == num :\n",
        "  print(\"{} is a perfect number.\".format(num))\n",
        "else:\n",
        "  print(\"{} is not a perfect number.\".format(num))\n"
      ]
    },
    {
      "cell_type": "markdown",
      "metadata": {
        "id": "nc0cEmtsxuYz"
      },
      "source": [
        "**mail = \"mailto: Clarusway admission@clarusway.com, 6 Haz 2021 Paz, 21:08 tarihinde şunu yazdı:\"\n",
        "\n",
        "Write python code that outputs \"clarusway.com\" from the string in the \"mail\" variable.\n",
        "Expected Output: clarusway.com**"
      ]
    },
    {
      "cell_type": "code",
      "execution_count": 12,
      "metadata": {
        "id": "NVM7HizWxx8X"
      },
      "outputs": [
        {
          "data": {
            "text/plain": [
              "'clarusway.com'"
            ]
          },
          "execution_count": 12,
          "metadata": {},
          "output_type": "execute_result"
        }
      ],
      "source": [
        "mail = \"mailto: Clarusway admission@clarusway.com, 6 Haz 2021 Paz, 21:08 tarihinde şunu yazdı:\"\n",
        "output = mail[mail.index(\"@\") + 1 : mail.index(\",\")]\n",
        "output"
      ]
    },
    {
      "cell_type": "markdown",
      "metadata": {
        "id": "AXCRW9flxzCm"
      },
      "source": [
        "2\n",
        "**1 ve 10 arasında sayıları azalana doğru sıralayan bir program yazınız**"
      ]
    },
    {
      "cell_type": "code",
      "execution_count": null,
      "metadata": {
        "id": "dk4-D9vjx5QN"
      },
      "outputs": [],
      "source": [
        "liste = sorted([i for i in range(1,11)], reverse = True)\n",
        "liste"
      ]
    },
    {
      "cell_type": "markdown",
      "metadata": {
        "id": "067T-0sOx9F4"
      },
      "source": [
        "3\n",
        "**Write a Python program to compute the greatest common divisor (GCD) of two positive integers**"
      ]
    },
    {
      "cell_type": "markdown",
      "metadata": {},
      "source": [
        "num1 = int(input(\"Please enter a number : \"))\n",
        "num2 = int(input(\"Please enter other number : \"))\n"
      ]
    },
    {
      "cell_type": "markdown",
      "metadata": {},
      "source": []
    },
    {
      "cell_type": "code",
      "execution_count": null,
      "metadata": {
        "id": "S7tys-AQxygl"
      },
      "outputs": [],
      "source": [
        "num1 = int(input(\"please enter a number : \"))\n",
        "num2 = int(input(\"please enter a number : \"))\n",
        "if num1 > num2 :\n",
        "  bolen =  num2\n",
        "else:\n",
        "  bolen = num1\n",
        "for i in range(1,bolen+1):\n",
        "  if num1 % i == 0 and num2 % i == 0 :\n",
        "    total = i\n",
        "\n",
        "print(total)"
      ]
    },
    {
      "cell_type": "markdown",
      "metadata": {
        "id": "0KFEUJc0yJ8W"
      },
      "source": [
        "![image.png](data:image/png;base64,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)"
      ]
    },
    {
      "cell_type": "code",
      "execution_count": null,
      "metadata": {
        "id": "pPx0UihNyWiX"
      },
      "outputs": [],
      "source": [
        "str_x =\"Emma is a good developer. Emma is writer.\"\n",
        "print(\"Emma appeared {} times.\".format(str_x.count(\"Emma\")))"
      ]
    },
    {
      "cell_type": "markdown",
      "metadata": {
        "id": "VouYV-hbycmL"
      },
      "source": [
        "4\n",
        "**integer formatında verilen sayının döngü kullanmadan aralarında birer boşuk bırakarak tersini yazdıran program**"
      ]
    },
    {
      "cell_type": "code",
      "execution_count": null,
      "metadata": {
        "id": "Yg1hKLfWyeM_"
      },
      "outputs": [],
      "source": [
        "num = input(\"please enter a number : \")\n",
        "reserve_num = \" \".join([i for i in (list(num)[::-1])])\n",
        "reserve_num"
      ]
    },
    {
      "cell_type": "code",
      "execution_count": null,
      "metadata": {
        "id": "3zVGw50yygJE"
      },
      "outputs": [],
      "source": [
        "num = 7536\n",
        "print(num % 10, (num % 100 -num % 10 ) // 10, (num % 1000 - num % 100) // 100, (num % 10000 - num % 1000) // 1000)"
      ]
    },
    {
      "cell_type": "markdown",
      "metadata": {
        "id": "bmIvZsw5yjZ8"
      },
      "source": [
        "5\n",
        "**kullanıcıdan alınan iki sayının ortak bölenlerini yazdıran bir program yazınız**"
      ]
    },
    {
      "cell_type": "code",
      "execution_count": null,
      "metadata": {
        "id": "ytZ56MwBykRY"
      },
      "outputs": [],
      "source": [
        "num1 = int(input(\"please enter first number :\"))\n",
        "num2 = int(input(\"please enter second number :\"))\n",
        "toplam = []\n",
        "\n",
        "for i in range(1,num1+1) :\n",
        "  if num1 % i == 0:\n",
        "    toplam += [i]\n",
        "    num1 = num1 // i\n",
        "for j in range(1,num2+1) :\n",
        "  if num2 % j == 0:\n",
        "    toplam += [j]\n",
        "    num2 = num2 // j\n",
        "print(set(toplam))"
      ]
    },
    {
      "cell_type": "markdown",
      "metadata": {
        "id": "9hCJddITyuM9"
      },
      "source": [
        "6\n",
        "**Write a Python program to sum of three given integers. However, if two values are equal sum will be zero.**"
      ]
    },
    {
      "cell_type": "code",
      "execution_count": null,
      "metadata": {
        "id": "qQ0VLo3yyykN"
      },
      "outputs": [],
      "source": [
        "num =list(map(int, input(\"\").split()))\n",
        "if num[0] == num[1] or num[1] == num[2] or num[0] == num[2] :\n",
        "  print(0)\n",
        "else:\n",
        "  print(sum(num))"
      ]
    },
    {
      "cell_type": "code",
      "execution_count": null,
      "metadata": {
        "id": "G5-U0KyFy4Tm"
      },
      "outputs": [],
      "source": [
        "num1 = (input(\"birinci sayıyı girin :\"))\n",
        "num2 = (input(\"ikinci  sayıyı girin :\"))\n",
        "num3 = (input(\"üçüncü sayıyı girin : \"))\n",
        "\n",
        "if num1 == num2 or num1 == num3 or num2 == num3 :\n",
        "  print(0)\n",
        "else:\n",
        "  print(num1 + num2 + num3)"
      ]
    },
    {
      "cell_type": "markdown",
      "metadata": {
        "id": "xQMU_PR1y0jF"
      },
      "source": [
        "7\n",
        "**Write a Python program to sum of two given integers. However, if the sum is between 15 to 20 it will return**"
      ]
    },
    {
      "cell_type": "code",
      "execution_count": null,
      "metadata": {
        "id": "6pimJ0Iuy8qX"
      },
      "outputs": [],
      "source": [
        "while True:\n",
        "  num =list(map(int, input(\"\").split()))\n",
        "  if 20 > sum(num) > 15 :\n",
        "    print(sum(num))\n",
        "    break\n",
        "  else:\n",
        "    print(\"Please enter different nums :\")\n"
      ]
    },
    {
      "cell_type": "markdown",
      "metadata": {
        "id": "drFnval6zBtj"
      },
      "source": [
        "8\n",
        "**If the entered side lengths do not form a triangle, write the code that determines the type of triangle according to the three side information entered by the user. ( In absolute value, the difference of two sides is taken, if the difference is greater than the other side, the entered values ​​do not form a triangle. This is done for all sides.**"
      ]
    },
    {
      "cell_type": "code",
      "execution_count": null,
      "metadata": {
        "id": "uu76KhxczCwv"
      },
      "outputs": [],
      "source": [
        "sides = list(map(int, input(\"\").split()))\n",
        "if abs(sides[0] - sides[1]) < sides[2] and abs(sides[1] - sides[2]) < sides[0] and abs(sides[0] - sides[2]) < sides[1] :\n",
        "  print(\"It is a triangle!\")\n",
        "else:\n",
        "  print(\"It is not a triangle!\")"
      ]
    },
    {
      "cell_type": "markdown",
      "metadata": {
        "id": "LVJFGK1MzFCm"
      },
      "source": [
        "9\n",
        "**kullanıcının** **girdiği** **hatalı** **karakterleri** **kalın metin**(**rakam** **veya** **özel** **karakterleri**) **temizleyen** **ve**  **sonuçta** \"**Ali** **Demir**\" **gibi** **çıktı** **veren** **bir** **kod** **yazalım** "
      ]
    },
    {
      "cell_type": "code",
      "execution_count": null,
      "metadata": {
        "id": "74Ok9riczKiq"
      },
      "outputs": [],
      "source": [
        "s = input(\"sentence\")\n",
        "new_s =\"\"\n",
        "\n",
        "for i in s :\n",
        "  if i.isalpha() or i == \" \" :\n",
        "    new_s += i\n",
        "\n",
        "\n",
        "capitalize_s = \" \".join([j.capitalize() for j in new_s.split()])\n",
        "capitalize_s"
      ]
    },
    {
      "cell_type": "markdown",
      "metadata": {
        "id": "bMq0T3LWzRmL"
      },
      "source": [
        "10\n",
        "**değişik formatlarda üçgen yapma fonksiyonları**"
      ]
    },
    {
      "cell_type": "code",
      "execution_count": 10,
      "metadata": {
        "colab": {
          "base_uri": "https://localhost:8080/"
        },
        "id": "OU4WRTjSzT_T",
        "outputId": "d8c1b8d1-7535-4154-c65b-939928d4b3ab"
      },
      "outputs": [
        {
          "name": "stdout",
          "output_type": "stream",
          "text": [
            "*****\n",
            "****\n",
            "***\n",
            "**\n",
            "*\n"
          ]
        }
      ],
      "source": [
        "# *****\n",
        "# ****\n",
        "# ***\n",
        "# **\n",
        "# *\n",
        "for i in range(5,0,-1):\n",
        "  print(i * \"*\")"
      ]
    },
    {
      "cell_type": "code",
      "execution_count": 11,
      "metadata": {
        "colab": {
          "base_uri": "https://localhost:8080/"
        },
        "id": "QGBg_HP0zT0Q",
        "outputId": "622a18e3-00e3-4cc8-e480-721780132238"
      },
      "outputs": [
        {
          "name": "stdout",
          "output_type": "stream",
          "text": [
            "\n",
            "1 \n",
            "1 2 \n",
            "1 2 3 \n",
            "1 2 3 4 \n"
          ]
        }
      ],
      "source": [
        "\n",
        "\n",
        "# 1\n",
        "# 1 2\n",
        "# 1 2 3\n",
        "# 1 2 3 4\n",
        "\n",
        "num = 5\n",
        "for i in range(num) :\n",
        "  for j in range(1, i+1):\n",
        "    print(j, end = \" \")\n",
        "  print()\n"
      ]
    },
    {
      "cell_type": "code",
      "execution_count": 1,
      "metadata": {
        "id": "IjQoeUcKzXL6"
      },
      "outputs": [
        {
          "name": "stdout",
          "output_type": "stream",
          "text": [
            "          * \n",
            "        * * \n",
            "      * * * \n",
            "    * * * * \n",
            "  * * * * * \n",
            "* * * * * * \n"
          ]
        }
      ],
      "source": [
        "num = int(input(\"\"))\n",
        "space = (2 * num) - 2\n",
        "for i in range(num) :\n",
        "    print(\" \" * space + (i+1) * \"* \")\n",
        "    space -= 2"
      ]
    },
    {
      "cell_type": "code",
      "execution_count": null,
      "metadata": {
        "id": "fF_H3pbfzgYO"
      },
      "outputs": [],
      "source": [
        "#      1 \n",
        "#     1 2 \n",
        "#    1 2 3 \n",
        "#   1 2 3 4 \n",
        "#  1 2 3 4 5\n",
        "num = int(input(\"\"))\n",
        "for i in range(1,num+1) :\n",
        "  print(\" \" * (num +1 -i), *range(1,i+1))"
      ]
    },
    {
      "cell_type": "markdown",
      "metadata": {
        "id": "YqBCumpczbqR"
      },
      "source": [
        "11\n",
        "**Write** **a** **Python** **program** **to** **get** **a string from a given string** **where** **all** **occurrences** of **its** first** *char have been changed to '$', except the first ch**ar **itself**\n",
        "\n",
        "Sample String : 'restart\n",
        "\n",
        "Expected Result : 'resta$t"
      ]
    },
    {
      "cell_type": "code",
      "execution_count": null,
      "metadata": {
        "id": "8jQfcINczc-c"
      },
      "outputs": [],
      "source": [
        "text = input(\"\")\n",
        "text =text[0] + text[1:].replace(text[0], \"$\")\n",
        "text\n"
      ]
    },
    {
      "cell_type": "markdown",
      "metadata": {
        "id": "um80VSxrzwXE"
      },
      "source": [
        "12\n",
        "**Kullanıcan alınan string in içinde yine kullanıcan alınan substring kaç tane var sayma programı**"
      ]
    },
    {
      "cell_type": "code",
      "execution_count": null,
      "metadata": {
        "id": "L5j1SrDDzwJq"
      },
      "outputs": [],
      "source": [
        "#find a string\n",
        "text = input(\"\")\n",
        "sub_text= input(\"\")\n",
        "count = 0\n",
        "for i in range(len(text)) :\n",
        "  if text[i:i+len(sub_text)] == sub_text :\n",
        "    count += 1\n",
        "print(count)"
      ]
    },
    {
      "cell_type": "code",
      "execution_count": null,
      "metadata": {
        "id": "ijAxk1oFz3R-"
      },
      "outputs": [],
      "source": [
        "text = input(\"\")\n",
        "sub_text= input(\"\")\n",
        "text.count(sub_text)\n",
        "#!!!!count methodu birbiriyle kesişen harfleri saymaz o yüzden bu soruda kullanımı uygun değil!!!"
      ]
    },
    {
      "cell_type": "markdown",
      "metadata": {
        "id": "yrS5NDAlz0oY"
      },
      "source": [
        "13\n",
        "**Write a Python program to get a string made of the first 2 and the last 2 chars from a given a string. If the string length is less than 2, return instead of the empty string** "
      ]
    },
    {
      "cell_type": "code",
      "execution_count": null,
      "metadata": {
        "id": "bPAl9eQgz-hs"
      },
      "outputs": [],
      "source": [
        "\n",
        "text = input(\"\")\n",
        "if len(text) < 2 :\n",
        "  word = \"Empty String\"\n",
        "else :\n",
        "  word = text[0:2] + text[-2:]\n",
        "print(word)"
      ]
    },
    {
      "cell_type": "markdown",
      "metadata": {
        "id": "8Bw53jPG0Dub"
      },
      "source": [
        "14\n",
        "**Given the participants' score sheet for your University Sports Day, you are required to find the runner-up score. You are given  scores. Store them in a list and find the score of the runner-up.\n",
        "Input Format\n",
        "The first line contains . The second line contains an array   of  integers each separated by a space.**"
      ]
    },
    {
      "cell_type": "code",
      "execution_count": null,
      "metadata": {
        "id": "zkjEYVms0G-q"
      },
      "outputs": [],
      "source": [
        "num = int(input(\"\"))\n",
        "scores = list(map(int, input(\"\").split()))\n",
        "runner_up =sorted(set(scores))[-2]\n",
        "print(runner_up)"
      ]
    },
    {
      "cell_type": "markdown",
      "metadata": {
        "id": "2v9J3qFP0Li9"
      },
      "source": [
        "15\n",
        "**Write a Python program to display the examination schedule. (extract the date from exam_st_date).**\n",
        "\n",
        "exam_st_date = (11, 12, 2014)\n",
        "\n",
        "Sample Output : The examination will start from : 11 / 12 / 2014"
      ]
    },
    {
      "cell_type": "code",
      "execution_count": null,
      "metadata": {
        "id": "mHTNod1k0NNA"
      },
      "outputs": [],
      "source": [
        "# Write a Python program to display the examination schedule. (extract the date from exam_st_date). \n",
        "# exam_st_date = (11, 12, 2014)\n",
        "# Sample Output : The examination will start from : 11 / 12 / 2014\n",
        "\n",
        "exam_st_date = (11,12,2014)\n",
        "print(\"The examination will start from : %i / %i / %i \"%exam_st_date)"
      ]
    },
    {
      "cell_type": "markdown",
      "metadata": {
        "id": "5nCRBpmUynFm"
      },
      "source": [
        "16\n",
        "**Kullanıcıdan alınan iki sayının ekokunu bulan program yazınız**"
      ]
    },
    {
      "cell_type": "code",
      "execution_count": null,
      "metadata": {
        "id": "SJbi6735yr6X"
      },
      "outputs": [],
      "source": [
        "sayi1 =int(input(\"lütfen ilk sayıyı giriniz : \"))\n",
        "sayi2 =int(input(\"lütfen ikinci sayıyı giriniz : \"))\n",
        "for i in range(1,min(sayi1, sayi2) +1):\n",
        "    if (sayi1 % i==0) and (sayi2%i ==0):\n",
        "        ebob = i\n",
        "print(\"Ekok = \", (sayi1*sayi2)//ebob)"
      ]
    },
    {
      "cell_type": "markdown",
      "metadata": {
        "id": "RTD7U9Y-2XQC"
      },
      "source": [
        "17\n",
        "**Try to print a multiplication table with numbers from 1 to 10.**"
      ]
    },
    {
      "cell_type": "code",
      "execution_count": null,
      "metadata": {
        "colab": {
          "base_uri": "https://localhost:8080/"
        },
        "id": "uWxF05o32O9H",
        "outputId": "2f8f2d79-1eb7-46b3-f25d-dd941655645c"
      },
      "outputs": [
        {
          "name": "stdout",
          "output_type": "stream",
          "text": [
            "Please enter a number : 3\n",
            "3 x 0 = 0\n",
            "3 x 1 = 3\n",
            "3 x 2 = 6\n",
            "3 x 3 = 9\n",
            "3 x 4 = 12\n",
            "3 x 5 = 15\n",
            "3 x 6 = 18\n",
            "3 x 7 = 21\n",
            "3 x 8 = 24\n",
            "3 x 9 = 27\n",
            "3 x 10 = 30\n"
          ]
        }
      ],
      "source": [
        "num = int(input(\"Please enter a number : \"))\n",
        "for i in range(11):\n",
        "  print(\"{} x {} = {}\".format(num,i,num*i))"
      ]
    },
    {
      "cell_type": "markdown",
      "metadata": {
        "id": "cSzXadHx2xY8"
      },
      "source": [
        "18\n",
        "**A number from the user will be set to be \"Armstrong.\n",
        "For example, if a number has 4 digits and is equal to the 4th (3rd power for 3-digit numbers) of each of its surroundings, this number is called the \"Armstrong\" number.**"
      ]
    },
    {
      "cell_type": "code",
      "execution_count": null,
      "metadata": {
        "id": "Ntj17UUT2fEI"
      },
      "outputs": [],
      "source": [
        "num = input(\"\")\n",
        "toplam = sum([int(i) ** len(num) for i in num])\n",
        "\n",
        "if int(num) == toplam :\n",
        "  print(num, \"is a armstrong number\")\n",
        "else:\n",
        "  print(num, \"is not a armstrong number\")\n"
      ]
    },
    {
      "cell_type": "markdown",
      "metadata": {
        "id": "1zyUT4IB25Zx"
      },
      "source": [
        "19\n",
        "**Write a program to find all the Armstrong numbers present in between two intervals in Python. For example, Armstrong numbers between 100 and 2000.**"
      ]
    },
    {
      "cell_type": "code",
      "execution_count": null,
      "metadata": {
        "colab": {
          "base_uri": "https://localhost:8080/"
        },
        "id": "pBYcRCAO283a",
        "outputId": "fc753be4-5615-4ea8-cc02-c30c53964992"
      },
      "outputs": [
        {
          "name": "stdout",
          "output_type": "stream",
          "text": [
            "100 2000\n",
            "153\n",
            "370\n",
            "371\n",
            "407\n",
            "1634\n"
          ]
        }
      ],
      "source": [
        "# let’s find a similar one to this question, friends.\n",
        "# write a program to find all the Armstrong numbers present in between two intervals in Python. For example, Armstrong numbers between 100 and 2000. Expected output:\n",
        "# 153\n",
        "# 370\n",
        "# 371\n",
        "# 407\n",
        "# 1634\n",
        "\n",
        "lower_num, higher_num = list(map(int, input(\"\").split()))\n",
        "for i in range(lower_num, higher_num+1) :\n",
        "  if sum([int(j) ** len(str(i)) for j in str(i)]) == i :\n",
        "    print(i)"
      ]
    },
    {
      "cell_type": "markdown",
      "metadata": {
        "id": "nqDcMfRm-hjg"
      },
      "source": [
        "**1 x 1 = 1**\n",
        "\n",
        "**1 x 2 = 2**\n",
        "\n",
        "**1 x 3 = 3**\n",
        "\n",
        "**1 x 4 = 4**\n",
        "\n",
        "**1 x 5 = 5**\n",
        "\n",
        "**1 x 6 = 6**\n",
        "\n",
        "**1 x 7 = 7**\n",
        "\n",
        "**1 x 8 = 8**\n",
        "\n",
        "**1 x 9 = 9**\n",
        "\n",
        "**1 x 10 = 10**\n",
        "\n",
        "***********\n",
        "**2 x 1 = 2**\n",
        "\n",
        "**2 x 2 = 4**\n",
        "\n",
        "**2 x 3 = 6**\n",
        "\n",
        "**2 x 4 = 8**\n",
        "\n",
        "**1 den 10 a kadar çarpım tablosunu örnekteki gibi yazdırın**"
      ]
    },
    {
      "cell_type": "code",
      "execution_count": null,
      "metadata": {
        "colab": {
          "base_uri": "https://localhost:8080/"
        },
        "id": "vxlthKzd-3jO",
        "outputId": "7a82567c-8ead-42a1-dfa4-90b8f675775a"
      },
      "outputs": [
        {
          "name": "stdout",
          "output_type": "stream",
          "text": [
            "1 x 1 = 1\n",
            "1 x 2 = 2\n",
            "1 x 3 = 3\n",
            "1 x 4 = 4\n",
            "1 x 5 = 5\n",
            "1 x 6 = 6\n",
            "1 x 7 = 7\n",
            "1 x 8 = 8\n",
            "1 x 9 = 9\n",
            "1 x 10 = 10\n",
            "**********\n",
            "2 x 1 = 2\n",
            "2 x 2 = 4\n",
            "2 x 3 = 6\n",
            "2 x 4 = 8\n",
            "2 x 5 = 10\n",
            "2 x 6 = 12\n",
            "2 x 7 = 14\n",
            "2 x 8 = 16\n",
            "2 x 9 = 18\n",
            "2 x 10 = 20\n",
            "**********\n",
            "3 x 1 = 3\n",
            "3 x 2 = 6\n",
            "3 x 3 = 9\n",
            "3 x 4 = 12\n",
            "3 x 5 = 15\n",
            "3 x 6 = 18\n",
            "3 x 7 = 21\n",
            "3 x 8 = 24\n",
            "3 x 9 = 27\n",
            "3 x 10 = 30\n",
            "**********\n",
            "4 x 1 = 4\n",
            "4 x 2 = 8\n",
            "4 x 3 = 12\n",
            "4 x 4 = 16\n",
            "4 x 5 = 20\n",
            "4 x 6 = 24\n",
            "4 x 7 = 28\n",
            "4 x 8 = 32\n",
            "4 x 9 = 36\n",
            "4 x 10 = 40\n",
            "**********\n",
            "5 x 1 = 5\n",
            "5 x 2 = 10\n",
            "5 x 3 = 15\n",
            "5 x 4 = 20\n",
            "5 x 5 = 25\n",
            "5 x 6 = 30\n",
            "5 x 7 = 35\n",
            "5 x 8 = 40\n",
            "5 x 9 = 45\n",
            "5 x 10 = 50\n",
            "**********\n",
            "6 x 1 = 6\n",
            "6 x 2 = 12\n",
            "6 x 3 = 18\n",
            "6 x 4 = 24\n",
            "6 x 5 = 30\n",
            "6 x 6 = 36\n",
            "6 x 7 = 42\n",
            "6 x 8 = 48\n",
            "6 x 9 = 54\n",
            "6 x 10 = 60\n",
            "**********\n",
            "7 x 1 = 7\n",
            "7 x 2 = 14\n",
            "7 x 3 = 21\n",
            "7 x 4 = 28\n",
            "7 x 5 = 35\n",
            "7 x 6 = 42\n",
            "7 x 7 = 49\n",
            "7 x 8 = 56\n",
            "7 x 9 = 63\n",
            "7 x 10 = 70\n",
            "**********\n",
            "8 x 1 = 8\n",
            "8 x 2 = 16\n",
            "8 x 3 = 24\n",
            "8 x 4 = 32\n",
            "8 x 5 = 40\n",
            "8 x 6 = 48\n",
            "8 x 7 = 56\n",
            "8 x 8 = 64\n",
            "8 x 9 = 72\n",
            "8 x 10 = 80\n",
            "**********\n",
            "9 x 1 = 9\n",
            "9 x 2 = 18\n",
            "9 x 3 = 27\n",
            "9 x 4 = 36\n",
            "9 x 5 = 45\n",
            "9 x 6 = 54\n",
            "9 x 7 = 63\n",
            "9 x 8 = 72\n",
            "9 x 9 = 81\n",
            "9 x 10 = 90\n",
            "**********\n",
            "10 x 1 = 10\n",
            "10 x 2 = 20\n",
            "10 x 3 = 30\n",
            "10 x 4 = 40\n",
            "10 x 5 = 50\n",
            "10 x 6 = 60\n",
            "10 x 7 = 70\n",
            "10 x 8 = 80\n",
            "10 x 9 = 90\n",
            "10 x 10 = 100\n",
            "**********\n"
          ]
        }
      ],
      "source": [
        "for i in range(1,11) :\n",
        "  for j in range(1,11):\n",
        "    print(\"{} x {} = {}\".format(i,j,j*i))\n",
        "  print(\"*\" * 10)"
      ]
    },
    {
      "cell_type": "markdown",
      "metadata": {
        "id": "FFWSz2O1BaKj"
      },
      "source": [
        "![image (2).png](data:image/png;base64,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)"
      ]
    },
    {
      "cell_type": "code",
      "execution_count": null,
      "metadata": {
        "colab": {
          "base_uri": "https://localhost:8080/"
        },
        "id": "JAr2_AjdCsNO",
        "outputId": "a144c10d-ee0f-4398-a226-8f3cd6834a0c"
      },
      "outputs": [
        {
          "name": "stdout",
          "output_type": "stream",
          "text": [
            " 1 x  1 =   1| 2 x  1 =   2| 3 x  1 =   3| 4 x  1 =   4| 5 x  1 =   5| 6 x  1 =   6| 7 x  1 =   7| 8 x  1 =   8| 9 x  1 =   9|10 x  1 =  10|\n",
            " 1 x  2 =   2| 2 x  2 =   4| 3 x  2 =   6| 4 x  2 =   8| 5 x  2 =  10| 6 x  2 =  12| 7 x  2 =  14| 8 x  2 =  16| 9 x  2 =  18|10 x  2 =  20|\n",
            " 1 x  3 =   3| 2 x  3 =   6| 3 x  3 =   9| 4 x  3 =  12| 5 x  3 =  15| 6 x  3 =  18| 7 x  3 =  21| 8 x  3 =  24| 9 x  3 =  27|10 x  3 =  30|\n",
            " 1 x  4 =   4| 2 x  4 =   8| 3 x  4 =  12| 4 x  4 =  16| 5 x  4 =  20| 6 x  4 =  24| 7 x  4 =  28| 8 x  4 =  32| 9 x  4 =  36|10 x  4 =  40|\n",
            " 1 x  5 =   5| 2 x  5 =  10| 3 x  5 =  15| 4 x  5 =  20| 5 x  5 =  25| 6 x  5 =  30| 7 x  5 =  35| 8 x  5 =  40| 9 x  5 =  45|10 x  5 =  50|\n",
            " 1 x  6 =   6| 2 x  6 =  12| 3 x  6 =  18| 4 x  6 =  24| 5 x  6 =  30| 6 x  6 =  36| 7 x  6 =  42| 8 x  6 =  48| 9 x  6 =  54|10 x  6 =  60|\n",
            " 1 x  7 =   7| 2 x  7 =  14| 3 x  7 =  21| 4 x  7 =  28| 5 x  7 =  35| 6 x  7 =  42| 7 x  7 =  49| 8 x  7 =  56| 9 x  7 =  63|10 x  7 =  70|\n",
            " 1 x  8 =   8| 2 x  8 =  16| 3 x  8 =  24| 4 x  8 =  32| 5 x  8 =  40| 6 x  8 =  48| 7 x  8 =  56| 8 x  8 =  64| 9 x  8 =  72|10 x  8 =  80|\n",
            " 1 x  9 =   9| 2 x  9 =  18| 3 x  9 =  27| 4 x  9 =  36| 5 x  9 =  45| 6 x  9 =  54| 7 x  9 =  63| 8 x  9 =  72| 9 x  9 =  81|10 x  9 =  90|\n",
            " 1 x 10 =  10| 2 x 10 =  20| 3 x 10 =  30| 4 x 10 =  40| 5 x 10 =  50| 6 x 10 =  60| 7 x 10 =  70| 8 x 10 =  80| 9 x 10 =  90|10 x 10 = 100|\n"
          ]
        }
      ],
      "source": [
        "j = 1\n",
        "while j <= 10 :\n",
        "  for i in range(1,11) :\n",
        "    if len(str(i))==1 and len(str(j))==1 and len(str(i*j))==1:\n",
        "      print(\" {} x  {} =   {}\".format(i,j,i*j), end = \"|\")\n",
        "    elif len(str(i))==1 and len(str(j))==1 and len(str(i*j))==2:\n",
        "      print(\" {} x  {} =  {}\".format(i,j,i*j), end = \"|\")\n",
        "    elif len(str(i))==2 and len(str(j))==1 and len(str(i*j))==2:\n",
        "      print(\"{} x  {} =  {}\".format(i,j,i*j), end = \"|\")\n",
        "    elif len(str(i))==1 and len(str(j))==2 and len(str(i*j))==2:\n",
        "      print(\" {} x {} =  {}\".format(i,j,i*j), end = \"|\")\n",
        "    elif len(str(i))==2 and len(str(j))==2 and len(str(i*j))==3:\n",
        "      print(\"{} x {} = {}\".format(i,j,i*j), end = \"|\")\n",
        "    else:\n",
        "      print(\" {} x {} ={}\".format(i,j,i*j), end = \"|\")\n",
        "  j += 1\n",
        "  print()"
      ]
    },
    {
      "cell_type": "code",
      "execution_count": null,
      "metadata": {
        "colab": {
          "base_uri": "https://localhost:8080/"
        },
        "id": "Uggxk8Mti7tE",
        "outputId": "73a4fa0b-552b-41ce-f7ec-f691c9a70ea9"
      },
      "outputs": [
        {
          "name": "stdout",
          "output_type": "stream",
          "text": [
            " 1 x  1 =   1 | 2 x  1 =   2 | 3 x  1 =   3 | 4 x  1 =   4 | 5 x  1 =   5 | 6 x  1 =   6 | 7 x  1 =   7 | 8 x  1 =   8 | 9 x  1 =   9 |10 x  1 =  10 |\n",
            " 1 x  2 =   2 | 2 x  2 =   4 | 3 x  2 =   6 | 4 x  2 =   8 | 5 x  2 =  10 | 6 x  2 =  12 | 7 x  2 =  14 | 8 x  2 =  16 | 9 x  2 =  18 |10 x  2 =  20 |\n",
            " 1 x  3 =   3 | 2 x  3 =   6 | 3 x  3 =   9 | 4 x  3 =  12 | 5 x  3 =  15 | 6 x  3 =  18 | 7 x  3 =  21 | 8 x  3 =  24 | 9 x  3 =  27 |10 x  3 =  30 |\n",
            " 1 x  4 =   4 | 2 x  4 =   8 | 3 x  4 =  12 | 4 x  4 =  16 | 5 x  4 =  20 | 6 x  4 =  24 | 7 x  4 =  28 | 8 x  4 =  32 | 9 x  4 =  36 |10 x  4 =  40 |\n",
            " 1 x  5 =   5 | 2 x  5 =  10 | 3 x  5 =  15 | 4 x  5 =  20 | 5 x  5 =  25 | 6 x  5 =  30 | 7 x  5 =  35 | 8 x  5 =  40 | 9 x  5 =  45 |10 x  5 =  50 |\n",
            " 1 x  6 =   6 | 2 x  6 =  12 | 3 x  6 =  18 | 4 x  6 =  24 | 5 x  6 =  30 | 6 x  6 =  36 | 7 x  6 =  42 | 8 x  6 =  48 | 9 x  6 =  54 |10 x  6 =  60 |\n",
            " 1 x  7 =   7 | 2 x  7 =  14 | 3 x  7 =  21 | 4 x  7 =  28 | 5 x  7 =  35 | 6 x  7 =  42 | 7 x  7 =  49 | 8 x  7 =  56 | 9 x  7 =  63 |10 x  7 =  70 |\n",
            " 1 x  8 =   8 | 2 x  8 =  16 | 3 x  8 =  24 | 4 x  8 =  32 | 5 x  8 =  40 | 6 x  8 =  48 | 7 x  8 =  56 | 8 x  8 =  64 | 9 x  8 =  72 |10 x  8 =  80 |\n",
            " 1 x  9 =   9 | 2 x  9 =  18 | 3 x  9 =  27 | 4 x  9 =  36 | 5 x  9 =  45 | 6 x  9 =  54 | 7 x  9 =  63 | 8 x  9 =  72 | 9 x  9 =  81 |10 x  9 =  90 |\n",
            " 1 x 10 =  10 | 2 x 10 =  20 | 3 x 10 =  30 | 4 x 10 =  40 | 5 x 10 =  50 | 6 x 10 =  60 | 7 x 10 =  70 | 8 x 10 =  80 | 9 x 10 =  90 |10 x 10 = 100 |\n"
          ]
        }
      ],
      "source": [
        "for i in range(1,11):\n",
        " for j in range(1,11):\n",
        "  print(format(j,\"2d\"),\"x\",format(i,\"2d\"),\"=\",format(i*j,\"3d\"),\"|\", end=\"\")\n",
        " print()"
      ]
    },
    {
      "cell_type": "markdown",
      "metadata": {
        "id": "waGEzTSgiiFx"
      },
      "source": [
        "20\n",
        "**Write a Python program which iterates the integers from 1 to 50. For multiples of three print \"Fizz\" instead of the number and for the multiples of five print \"Buzz\". For numbers which are multiples of both three and five print \"FizzBuzz\". Sample Output : fizzbuzz 1 2 fizz 4 buzz**"
      ]
    },
    {
      "cell_type": "code",
      "execution_count": null,
      "metadata": {
        "id": "KcnAHbmkobXJ"
      },
      "outputs": [],
      "source": [
        "n = 50\n",
        "for i in range(1,n+1):\n",
        "    if not i % 15:\n",
        "       print(\"FizzBuzz\")\n",
        "    elif not i % 5:\n",
        "        print(\"Buzz\")\n",
        "    elif not i % 3:\n",
        "        print(\"Fizz\")\n",
        "    else:\n",
        "        print(i)"
      ]
    },
    {
      "cell_type": "markdown",
      "metadata": {
        "id": "vewkhZ-5kU4d"
      },
      "source": [
        "**In each while loop, take a number from the user and add the numbers entered by the user to a variable named \"sum\". When the user presses the \"q\" key, terminate the loop and print the \"sum variable\" to the screen.**"
      ]
    },
    {
      "cell_type": "code",
      "execution_count": null,
      "metadata": {
        "colab": {
          "base_uri": "https://localhost:8080/"
        },
        "id": "TyyPbQwCkZPd",
        "outputId": "b29a18b3-9800-4e40-9dfc-e63f797f7862"
      },
      "outputs": [
        {
          "name": "stdout",
          "output_type": "stream",
          "text": [
            "Please enter number, press q to quit 5\n",
            "Please enter number, press q to quit 7\n",
            "Please enter number, press q to quit 9\n",
            "Please enter number, press q to quit 11\n",
            "Please enter number, press q to quit q\n",
            "sum of numbers :  32\n"
          ]
        }
      ],
      "source": [
        "toplam = 0\n",
        "while True :\n",
        "  num = input(\"Please enter number, press q to quit \")\n",
        "  if num == \"q\" :\n",
        "    break\n",
        "  else :\n",
        "    toplam += int(num)\n",
        "\n",
        "print(\"sum of numbers : \" , toplam)\n"
      ]
    },
    {
      "cell_type": "markdown",
      "metadata": {
        "id": "dGpuRAit2zgJ"
      },
      "source": [
        "21\n",
        "**A jumbled list is given whose elements are consecutive numbers. Write python code that outputs even numbers of missing numbers that are between the smallest element and the largest element of the list, but not shown in the list.**\n",
        "\n",
        "**Input**\n",
        "\n",
        "**liste = [48, 10, 11, 21, 36, 5, 6, 52, 28, 29, 53, 54, 45, 19, 20, 47, 55, 39, 41, 7, 9, 17, 26, 27, 42, 22, 37, 51, 46, 18, 44, 30, 34, 13, 15, 35, 33, 16, 50, 24]**\n",
        "\n",
        "**Expected Output:\n",
        "8 12 14 32 38 40**"
      ]
    },
    {
      "cell_type": "code",
      "execution_count": null,
      "metadata": {
        "colab": {
          "base_uri": "https://localhost:8080/"
        },
        "id": "7cNQAMoLpaIu",
        "outputId": "b3f005fa-8ff7-480c-b5fe-8b0425b64d2d"
      },
      "outputs": [
        {
          "name": "stdout",
          "output_type": "stream",
          "text": [
            "8 12 14 32 38 40\n"
          ]
        }
      ],
      "source": [
        "liste = [48, 10, 11, 21, 36, 5, 6, 52, 28, 29, 53, 54, 45, 19, 20, 47, 55, 39, 41, 7, 9, 17, 26, 27, 42, 22, 37, 51, 46, 18, 44, 30, 34, 13, 15, 35, 33, 16, 50, 24]\n",
        " \n",
        "missing_nums = [i for i in range(min(liste), max(liste)+1) if i % 2 == 0 and not i in liste]\n",
        "print(* missing_nums)"
      ]
    },
    {
      "cell_type": "code",
      "execution_count": null,
      "metadata": {
        "colab": {
          "base_uri": "https://localhost:8080/"
        },
        "id": "yZXTWmVd3dl0",
        "outputId": "f4a8f1e4-70eb-4247-f70f-f0da2485325c"
      },
      "outputs": [
        {
          "name": "stdout",
          "output_type": "stream",
          "text": [
            "8 12 14 32 38 40 "
          ]
        }
      ],
      "source": [
        "num = [48, 10, 11, 21, 36, 5, 6, 52, 28, 29, 53, 54, 45, 19, 20, 47, 55, 39, 41, 7, 9, 17, 26, 27, 42, 22, 37, 51, 46, 18, 44, 30, 34, 13, 15, 35, 33, 16, 50, 24]\n",
        "max_num = max(num)\n",
        "min_num = min(num)\n",
        "\n",
        "for i in range(min_num,max_num + 1):\n",
        "    if (not i%2) and (not (i in num)):\n",
        "        print(i, end = \" \")\n"
      ]
    },
    {
      "cell_type": "markdown",
      "metadata": {
        "id": "yu1IpUitJQZS"
      },
      "source": [
        "22\n",
        "**Write a Python dictionary function that takes a string from the user and matches each character in the string with the index number.**\n",
        "\n",
        "**For Example:**\n",
        "\n",
        "**İnput:'clarusway'**\n",
        "\n",
        "**output: {0: 'c', 1: 'l', 2: 'a', 3: 'r', 4: 'u', 5: 's', 6: 'w', 7: 'a', 8: 'y'}**"
      ]
    },
    {
      "cell_type": "code",
      "execution_count": null,
      "metadata": {
        "colab": {
          "base_uri": "https://localhost:8080/"
        },
        "id": "LruMr-RY4BUn",
        "outputId": "4811ded0-35f2-4067-86e1-4171136f93f3"
      },
      "outputs": [
        {
          "name": "stdout",
          "output_type": "stream",
          "text": [
            "clarusway\n",
            "{0: 'c', 1: 'l', 2: 'a', 3: 'r', 4: 'u', 5: 's', 6: 'w', 7: 'a', 8: 'y'}\n"
          ]
        }
      ],
      "source": [
        "text = input(\"\")\n",
        "sonuc ={}\n",
        "for i in range(len(text)):\n",
        "  sonuc[i] = text[i]\n",
        "print(sonuc)"
      ]
    },
    {
      "cell_type": "markdown",
      "metadata": {
        "id": "knXoLaQVKlDx"
      },
      "source": [
        "23\n",
        "**Write a Python function that takes a positive integer and returns the sum of the cube of all the positive integers smaller than the specified number.**"
      ]
    },
    {
      "cell_type": "code",
      "execution_count": null,
      "metadata": {
        "colab": {
          "base_uri": "https://localhost:8080/"
        },
        "id": "XrSJFNJdJ1Yj",
        "outputId": "01ba2e65-0e56-4fb4-b020-61dba232f6b4"
      },
      "outputs": [
        {
          "name": "stdout",
          "output_type": "stream",
          "text": [
            "9\n",
            "1296\n"
          ]
        }
      ],
      "source": [
        "num = int(input(\"\"))\n",
        "print(sum([i ** 3 for i in range(num)]))"
      ]
    },
    {
      "cell_type": "markdown",
      "metadata": {
        "id": "gJqu3n1mQS3A"
      },
      "source": [
        "24\n",
        "**Write a Python program to remove and print every third number from a list of numbers until the list becomes empty.**\n"
      ]
    },
    {
      "cell_type": "code",
      "execution_count": null,
      "metadata": {
        "colab": {
          "base_uri": "https://localhost:8080/"
        },
        "id": "oZDmgOL-NtgJ",
        "outputId": "8ec9397b-464a-4eb6-bbbb-5cdb4d70f134"
      },
      "outputs": [
        {
          "name": "stdout",
          "output_type": "stream",
          "text": [
            "[1, 2, 4, 5, 6, 7, 8, 9]\n",
            "[1, 2, 4, 5, 7, 8, 9]\n",
            "[1, 2, 4, 5, 7, 8]\n",
            "[1, 2, 5, 7, 8]\n",
            "[1, 2, 5, 7]\n",
            "[1, 2, 7]\n",
            "[1, 7]\n",
            "[1]\n",
            "[]\n"
          ]
        }
      ],
      "source": [
        "liste = [1 ,2 ,3 ,4 ,5 ,6 ,7 ,8 ,9]\n",
        "indeks = 0\n",
        "uzunluk = len(liste)\n",
        "while len(liste) > 0 :\n",
        "  indeks = (2 + indeks) % uzunluk\n",
        "  liste.pop(indeks)\n",
        "  print(liste)\n",
        "  uzunluk -= 1"
      ]
    },
    {
      "cell_type": "markdown",
      "metadata": {
        "id": "yN4PHTx3jkRF"
      },
      "source": [
        "25\n",
        "**Given a list, right rotate the list by n position.**\n",
        "\n",
        "**Write a program to shift every element of a list to circularly right.**"
      ]
    },
    {
      "cell_type": "code",
      "execution_count": null,
      "metadata": {
        "colab": {
          "base_uri": "https://localhost:8080/"
        },
        "id": "1g8Lxyiab8DB",
        "outputId": "9368c518-5dca-42ee-b186-8bd92b836314"
      },
      "outputs": [
        {
          "name": "stdout",
          "output_type": "stream",
          "text": [
            "7\n"
          ]
        },
        {
          "data": {
            "text/plain": [
              "[6, 1, 2, 3, 4, 5]"
            ]
          },
          "execution_count": 21,
          "metadata": {},
          "output_type": "execute_result"
        }
      ],
      "source": [
        "#kaç birim kaydırmak istediğimiz sayıyı gidiyoruz.\n",
        "num = int(input(\"\"))\n",
        "liste = [1, 2, 3, 4, 5, 6]\n",
        "new_liste = liste[len(liste)- num:] +liste[0:len(liste)- num]\n",
        "new_liste"
      ]
    },
    {
      "cell_type": "markdown",
      "metadata": {
        "id": "i1A45llbm1SA"
      },
      "source": [
        "26\n",
        "**Write a program that takes your full name as input and displays the abbreviations of the first and middle names except the last name which is displayed as it is. For example, if your name is Robert Brett Roser, then the output should be R.B.Roser.**"
      ]
    },
    {
      "cell_type": "code",
      "execution_count": null,
      "metadata": {
        "colab": {
          "base_uri": "https://localhost:8080/"
        },
        "id": "Zt7EYxrTjpu7",
        "outputId": "bea940e0-2f7d-4d7d-c721-448d1ea422dd"
      },
      "outputs": [
        {
          "name": "stdout",
          "output_type": "stream",
          "text": [
            "betül melek alan\n",
            "B.M.Alan\n"
          ]
        }
      ],
      "source": [
        "name = list(map(str.title, input(\"\").split()))\n",
        "print(\"{}.{}.{}\".format(name[0][0],name[1][0],name[2]))"
      ]
    },
    {
      "cell_type": "markdown",
      "metadata": {
        "id": "93oJ4n_en0I3"
      },
      "source": [
        "27\n",
        "**Write a program that takes a maximum two-digit (1-99) number from the user and finds the pronunciation of that number.**\n",
        "**For example:**\n",
        "\n",
        "**İnput:97**\n",
        "\n",
        "**Output:Doksan Yedi**"
      ]
    },
    {
      "cell_type": "code",
      "execution_count": null,
      "metadata": {
        "colab": {
          "base_uri": "https://localhost:8080/"
        },
        "id": "dveaGSDCnVWp",
        "outputId": "72a42f7e-1642-4521-bfed-a353b548d70a"
      },
      "outputs": [
        {
          "name": "stdout",
          "output_type": "stream",
          "text": [
            "11\n",
            "On Bir\n"
          ]
        }
      ],
      "source": [
        "sayı = int(input(\"\"))\n",
        "birler= [\"\", \"Bir\", \"İki\", \"Üç\", \"Dört\", \"Beş\", \"Altı\", \"Yedi\", \"Sekiz\", \"Dokuz\"]\n",
        "onlar= [\"\", \"On\", \"Yirmi\", \"Otuz\", \"Kırk\", \"Elli\", \"Altmış\", \"Yetmiş\", \"Seksen\", \"Doksan\"]\n",
        "\n",
        "birinci_b = sayı % 10\n",
        "ikinci_b = sayı // 10\n",
        "if len(str(sayı)) == 2:\n",
        "  print(onlar[ikinci_b], birler[birinci_b])\n",
        "elif len(str(sayı)) == 1 :\n",
        "  print(birler[birinci_b])\n",
        "\n"
      ]
    },
    {
      "cell_type": "code",
      "execution_count": null,
      "metadata": {
        "colab": {
          "base_uri": "https://localhost:8080/"
        },
        "id": "yNXmYO9qoENG",
        "outputId": "20e14382-9e25-4a36-f95a-c054d4548b0b"
      },
      "outputs": [
        {
          "name": "stdout",
          "output_type": "stream",
          "text": [
            "Enter your 2-digit number: 21\n",
            "yirmi bir\n"
          ]
        }
      ],
      "source": [
        "num = int(input(\"Enter your 2-digit number: \"))\n",
        "ones = [\"sıfır\", \"bir\", \"iki\", \"üç\", \"dört\", \"beş\", \"altı\", \"yedi\", \"sekiz\", \"dokuz\"]\n",
        "tens = [\"\", \"on\", \"yirmi\", \"otuz\", \"kırk\", \"elli\", \"altmış\", \"yetmiş\", \"seksen\", \"doksan\"]\n",
        "digit_ones = num % 10\n",
        "digit_tens = num // 10\n",
        "print(tens[digit_tens], ones[digit_ones])    "
      ]
    },
    {
      "cell_type": "markdown",
      "metadata": {
        "id": "bOaN3hg_8YCo"
      },
      "source": [
        "28\n",
        "**Write a program that takes your full name as input and displays the abbreviations of the first and middle names except the last name which is displayed as it is. For example, if your name is Robert Brett Roser**\n",
        "\n",
        "**Expected Output**\n",
        "\n",
        "**R***** B**** ROSER**"
      ]
    },
    {
      "cell_type": "code",
      "execution_count": null,
      "metadata": {
        "colab": {
          "base_uri": "https://localhost:8080/"
        },
        "id": "c6tulu0RtK43",
        "outputId": "1efca2ae-8d80-46e3-8925-9c62cf2f25b0"
      },
      "outputs": [
        {
          "name": "stdout",
          "output_type": "stream",
          "text": [
            "birinci ikinci üçüncü dördüncü\n",
            "B****** I***** Ü***** DÖRDÜNCÜ "
          ]
        }
      ],
      "source": [
        "name = list(map(str.upper, input(\"\").split()))\n",
        "count = 0\n",
        "for i in name :\n",
        "  count += 1\n",
        "  if count < len(name) :\n",
        "    i = i[0] +( \"*\" * (len(i) -1))\n",
        "  else :\n",
        "    i = i\n",
        "  print(i , end = \" \")"
      ]
    },
    {
      "cell_type": "code",
      "execution_count": null,
      "metadata": {
        "colab": {
          "base_uri": "https://localhost:8080/"
        },
        "id": "MvTYrSGyCzzm",
        "outputId": "36e4f3a1-51c1-4391-e41d-36c8b0057970"
      },
      "outputs": [
        {
          "name": "stdout",
          "output_type": "stream",
          "text": [
            "melek alan\n",
            "M**** ALAN\n"
          ]
        }
      ],
      "source": [
        "name = input(\"\").split()\n",
        "short_name = \"\"\n",
        "for i in range(len(name) -1) :\n",
        "  short_name += name[i][0] + len(name[i][1:]) * \"*\" + \" \"\n",
        "short_name += name[-1]\n",
        "print(short_name.upper())"
      ]
    },
    {
      "cell_type": "markdown",
      "metadata": {
        "id": "JuFG4u1aEOOA"
      },
      "source": [
        "29\n",
        "**Write a program that prints the numbers from 1 to 100 that form a pythagorean triangle. For exam:3 4 5**"
      ]
    },
    {
      "cell_type": "code",
      "execution_count": null,
      "metadata": {
        "colab": {
          "base_uri": "https://localhost:8080/"
        },
        "id": "N9O0WjC1HdDz",
        "outputId": "335c3b96-f130-4015-af10-f922d671bdcd"
      },
      "outputs": [
        {
          "name": "stdout",
          "output_type": "stream",
          "text": [
            "3 4 5\n",
            "5 12 13\n",
            "6 8 10\n",
            "7 24 25\n",
            "8 15 17\n",
            "9 12 15\n",
            "9 40 41\n",
            "10 24 26\n",
            "11 60 61\n",
            "12 16 20\n",
            "12 35 37\n",
            "13 84 85\n",
            "14 48 50\n",
            "15 20 25\n",
            "15 36 39\n",
            "16 30 34\n",
            "16 63 65\n",
            "18 24 30\n",
            "18 80 82\n",
            "20 21 29\n",
            "20 48 52\n",
            "21 28 35\n",
            "21 72 75\n",
            "24 32 40\n",
            "24 45 51\n",
            "24 70 74\n",
            "25 60 65\n",
            "27 36 45\n",
            "28 45 53\n",
            "30 40 50\n",
            "30 72 78\n",
            "32 60 68\n",
            "33 44 55\n",
            "33 56 65\n",
            "35 84 91\n",
            "36 48 60\n",
            "36 77 85\n",
            "39 52 65\n",
            "39 80 89\n",
            "40 42 58\n",
            "40 75 85\n",
            "42 56 70\n",
            "45 60 75\n",
            "48 55 73\n",
            "48 64 80\n",
            "51 68 85\n",
            "54 72 90\n",
            "57 76 95\n",
            "60 63 87\n",
            "65 72 97\n"
          ]
        }
      ],
      "source": [
        "for x in range(1,100) :\n",
        "  for y in range(x,100) :\n",
        "    for z in range(y,100) :\n",
        "      if x ** 2 + y **2 == z ** 2 :\n",
        "        print(x,y,z)"
      ]
    },
    {
      "cell_type": "markdown",
      "metadata": {
        "id": "E50IOoOeHs8n"
      },
      "source": [
        "30\n",
        "**Write a Python program to remove the characters which have odd index values of a given string**"
      ]
    },
    {
      "cell_type": "code",
      "execution_count": null,
      "metadata": {
        "colab": {
          "base_uri": "https://localhost:8080/"
        },
        "id": "doljmnv1Hss0",
        "outputId": "89b7dce5-7498-461b-d486-489c68ce00a7"
      },
      "outputs": [
        {
          "name": "stdout",
          "output_type": "stream",
          "text": [
            "melek\n",
            "mlk\n"
          ]
        }
      ],
      "source": [
        "kelime = input(\"\")\n",
        "y_kelime = \"\"\n",
        "for i in range(len(kelime)) :\n",
        "  if i % 2 == 0 :\n",
        "    y_kelime += kelime[i]\n",
        "print(y_kelime)"
      ]
    },
    {
      "cell_type": "markdown",
      "metadata": {
        "id": "QBILOaXLMwUC"
      },
      "source": [
        "31\n",
        "**Write a program to check if a given string is a Palindrome.\n",
        "A palindrome reads same from front and back e.g.- aba, ccaacc, mom, etc.**\n",
        "\n",
        "**INPUT:  aba**\n",
        "\n",
        "**OUTPUT: True**"
      ]
    },
    {
      "cell_type": "code",
      "execution_count": null,
      "metadata": {
        "colab": {
          "base_uri": "https://localhost:8080/"
        },
        "id": "NDJt45hRFTQF",
        "outputId": "eaba66b6-15cf-4765-c38c-20bb97c79a20"
      },
      "outputs": [
        {
          "name": "stdout",
          "output_type": "stream",
          "text": [
            "Mom\n",
            "True\n"
          ]
        }
      ],
      "source": [
        "word = input(\"\").lower()\n",
        "print(word[::] == word[::-1])"
      ]
    },
    {
      "cell_type": "markdown",
      "metadata": {
        "id": "IgrbR_0BN2EN"
      },
      "source": [
        "32\n",
        "**Write a Python function that takes a sequence of numbers and determines whether all the numbers are different from each other**"
      ]
    },
    {
      "cell_type": "code",
      "execution_count": null,
      "metadata": {
        "colab": {
          "base_uri": "https://localhost:8080/"
        },
        "id": "XE600p4BNQo1",
        "outputId": "cc24605d-0a0a-441f-8d99-85baf1d2fa57"
      },
      "outputs": [
        {
          "name": "stdout",
          "output_type": "stream",
          "text": [
            "123456\n",
            "True\n"
          ]
        }
      ],
      "source": [
        "number = input(\"\")\n",
        "print(len(set(number)) == len(number))"
      ]
    },
    {
      "cell_type": "markdown",
      "metadata": {
        "id": "nl5LZ-nHRtwW"
      },
      "source": [
        "33\n",
        "**You are given a string .\n",
        "Your task is to find out if the string  contains: alphanumeric characters, alphabetical characters, digits, lowercase and uppercase characters.**\n",
        "\n",
        "**Input Format**\n",
        "\n",
        "**A single line containing a string .**\n",
        "\n",
        "**Output Format**\n",
        "\n",
        "**In the first line, print True if  has any alphanumeric characters. Otherwise, print False.\n",
        "In the second line, print True if  has any alphabetical characters. Otherwise, print False.\n",
        "In the third line, print True if  has any digits. Otherwise, print False.\n",
        "In the fourth line, print True if  has any lowercase characters. Otherwise, print False.\n",
        "In the fifth line, print True if  has any uppercase characters. Otherwise, print False.**\n",
        "\n",
        "**Sample Input**\n",
        "\n",
        "**qA2**\n",
        "\n",
        "**Sample Output**\n",
        "\n",
        "**True**\n",
        "\n",
        "**True**\n",
        "\n",
        "**True**\n",
        "\n",
        "**True**\n",
        "\n",
        "**True**"
      ]
    },
    {
      "cell_type": "code",
      "execution_count": null,
      "metadata": {
        "colab": {
          "base_uri": "https://localhost:8080/"
        },
        "id": "GwMvVdZVOjbo",
        "outputId": "82159dd0-d359-45a0-ddf4-41e404ad3d81"
      },
      "outputs": [
        {
          "name": "stdout",
          "output_type": "stream",
          "text": [
            "125pr\n",
            "True\n",
            "True\n",
            "True\n",
            "True\n",
            "False\n"
          ]
        }
      ],
      "source": [
        "text = input(\"\")\n",
        "print(any(i.isalnum() for i in text))\n",
        "print(any(i.isalpha() for i in text))\n",
        "print(any(i.isdigit() for i in text))\n",
        "print(any(i.islower() for i in text))\n",
        "print(any(i.isupper() for i in text))"
      ]
    },
    {
      "cell_type": "markdown",
      "metadata": {
        "id": "iMBdFHXWc9M9"
      },
      "source": [
        "34\n",
        "**You are given three integers  i, j and k representing the dimensions of a cuboid along with an integer n. Print a list of all possible coordinates given by  (i, j, k) on a 3D grid where the sum i + j + k of  is not equal to  n .**\n",
        "\n",
        "**Sample Input 0**\n",
        "\n",
        "**1**\n",
        "\n",
        "**1**\n",
        "\n",
        "**1**\n",
        "\n",
        "**2**\n",
        "\n",
        "**Sample Output 0**\n",
        "\n",
        "**[[0, 0, 0], [0, 0, 1], [0, 1, 0], [1, 0, 0], [1, 1, 1]]**\n",
        "\n",
        "**Print an array of the elements that do not sum to 2 .**"
      ]
    },
    {
      "cell_type": "code",
      "execution_count": null,
      "metadata": {
        "colab": {
          "base_uri": "https://localhost:8080/"
        },
        "id": "Nb3AHUUgfrPc",
        "outputId": "b11ab42f-04d9-4373-c21a-1e72e4f0662c"
      },
      "outputs": [
        {
          "name": "stdout",
          "output_type": "stream",
          "text": [
            "1\n",
            "1\n",
            "1\n",
            "2\n",
            "[[0, 0, 0], [0, 0, 1], [0, 1, 0], [1, 0, 0], [1, 1, 1]]\n"
          ]
        }
      ],
      "source": [
        "x, y, z, n = int(input(\"\")), int(input(\"\")), int(input(\"\")), int(input(\"\"))\n",
        "ls = []\n",
        "for i in range(x +1) :\n",
        "  for j in range(y+ 1) :\n",
        "    for k in range(z + 1) :\n",
        "      if i + j + k != n :\n",
        "        ls.append([i,j,k])\n",
        "print(ls)\n"
      ]
    },
    {
      "cell_type": "markdown",
      "metadata": {
        "id": "QTOMz3dHBMzk"
      },
      "source": [
        "35\n",
        "**A number is said to be Harshad if it's exactly divisible by the sum of its digits. Create a code that determines whether a number is a Harshad or not.**\n",
        "\n",
        "**INPUT:75 ➞ OUTPUT:False**\n",
        "\n",
        "**7 + 5 = 12**\n",
        "\n",
        "**75 is not exactly divisible by 12**\n",
        "\n",
        "**INPUT:171 ➞ OUTPUT:True**\n",
        "\n",
        "**1 + 7 + 1 = 9**\n",
        "\n",
        "**9 exactly divides 171**"
      ]
    },
    {
      "cell_type": "code",
      "execution_count": null,
      "metadata": {
        "colab": {
          "base_uri": "https://localhost:8080/"
        },
        "id": "scQkyk_4eAzQ",
        "outputId": "d8fbf513-f417-4afb-baed-2c03f1ba3728"
      },
      "outputs": [
        {
          "name": "stdout",
          "output_type": "stream",
          "text": [
            "171\n",
            "True\n"
          ]
        }
      ],
      "source": [
        "num = input(\"\")\n",
        "print(int(num) % sum([int(i) for i in num]) == 0)"
      ]
    },
    {
      "cell_type": "markdown",
      "metadata": {
        "id": "hEYACHfePfZV"
      },
      "source": [
        "36\n",
        "**Write a Python program to get the difference between the two lists.**"
      ]
    },
    {
      "cell_type": "code",
      "execution_count": null,
      "metadata": {
        "colab": {
          "base_uri": "https://localhost:8080/"
        },
        "id": "Sw5_uRTnExVz",
        "outputId": "e080eaf6-fee4-4f55-c7ae-556034e1e7a0"
      },
      "outputs": [
        {
          "name": "stdout",
          "output_type": "stream",
          "text": [
            "[9, 3, 5, 8, 2, 4, 6]\n"
          ]
        }
      ],
      "source": [
        "list1 = [1, 3, 5, 7, 9]\n",
        "list2=[1, 2, 4, 6, 7, 8]\n",
        "diff_list1_list2 = list(set(list1) - set(list2))\n",
        "diff_list2_list1 = list(set(list2) - set(list1))\n",
        "total_diff = diff_list1_list2 + diff_list2_list1\n",
        "print(total_diff)"
      ]
    },
    {
      "cell_type": "markdown",
      "metadata": {
        "id": "FERdYMyUPxRp"
      },
      "source": [
        "37\n",
        "**Try to find out if a number you get from the user is perfect.**\n",
        "\n",
        "\n",
        "**A number is called a \"perfect number\" if the sum of its divisors is equal to itself. For example, 6 is a perfect number. (1 + 2 + 3 = 6)**"
      ]
    },
    {
      "cell_type": "code",
      "execution_count": null,
      "metadata": {
        "colab": {
          "base_uri": "https://localhost:8080/"
        },
        "id": "R6_QkM1WPqC9",
        "outputId": "63584ad7-f04f-4a44-b493-0e3df52d3ea3"
      },
      "outputs": [
        {
          "name": "stdout",
          "output_type": "stream",
          "text": [
            "20\n",
            "20 is not a perfect number.\n"
          ]
        }
      ],
      "source": [
        "num = int(input(\"\"))\n",
        "total = 0\n",
        "for i in range(1,num) :\n",
        "  if num % i == 0 :\n",
        "    total += i\n",
        "if total == num :\n",
        "  print(\"{} is a perfect number.\".format(num))\n",
        "else :\n",
        "  print(\"{} is not a perfect number.\".format(num))"
      ]
    },
    {
      "cell_type": "markdown",
      "metadata": {
        "id": "NkVlXxc_hXr0"
      },
      "source": [
        "38\n",
        "**Write a Python program to create a merged list of tuples from the two lists given.**\n",
        "\n",
        "**For Example:**\n",
        "**İnput:**\n",
        "\n",
        "**list1=[195, 488, 142, 626, 180]**\n",
        "\n",
        "**list2=[\"New York\", \"Alabama\", \"Hawaii\", \"Vermont\", \"West Virginia\"]**\n",
        "\n",
        "**Output:**\n",
        "\n",
        "**list3=[(195, 'New York'), (488, 'Alabama'), (142, 'Hawaii'), (626, 'Vermont'), (180, 'West Virginia')]**"
      ]
    },
    {
      "cell_type": "code",
      "execution_count": null,
      "metadata": {
        "colab": {
          "base_uri": "https://localhost:8080/"
        },
        "id": "r-_0gki0QmVc",
        "outputId": "13b3d258-fd3f-4e62-b30b-fe16f9240149"
      },
      "outputs": [
        {
          "name": "stdout",
          "output_type": "stream",
          "text": [
            "[(195, 'New York'), (488, 'Alabama'), (142, 'Hawaii'), (626, 'Vermont'), (180, 'West Virginia')]\n"
          ]
        }
      ],
      "source": [
        "list1=[195, 488, 142, 626, 180]\n",
        "list2=[\"New York\", \"Alabama\", \"Hawaii\", \"Vermont\", \"West Virginia\"]\n",
        "\n",
        "new = list(zip(list1, list2))\n",
        "print(new) "
      ]
    },
    {
      "cell_type": "code",
      "execution_count": null,
      "metadata": {
        "colab": {
          "base_uri": "https://localhost:8080/"
        },
        "id": "B5risacMhtdZ",
        "outputId": "bee3b745-515d-476d-e773-a206ca1a5a9d"
      },
      "outputs": [
        {
          "name": "stdout",
          "output_type": "stream",
          "text": [
            "[(195, 'New York'), (488, 'Alabama'), (142, 'Hawaii'), (626, 'Vermont'), (180, 'West Virginia')]\n"
          ]
        }
      ],
      "source": [
        "merge_list = []\n",
        "for i in range(0, len(list1)) :\n",
        "  merge_list += [(list1[i], list2[i])]\n",
        "\n",
        "print(merge_list)"
      ]
    },
    {
      "cell_type": "markdown",
      "metadata": {
        "id": "EwVUun9JAd3B"
      },
      "source": [
        "39\n",
        "**\"Loves me, loves me not\" is a traditional game in which a person plucks off all the petals of a flower one by one, saying the phrase \"Loves me\" and \"Loves me not\" when determining whether the one that they love, loves them back.\n",
        "Given a number of petals, return a string which repeats the phrases \"Loves me\" and \"Loves me not\" for every alternating petal, and return the last phrase in all caps. Remember to put a comma and space between phrases.**\n",
        "\n",
        "**INPUT : 3 ➞ \"Loves me, Loves me not, LOVES ME\"**\n",
        "\n",
        "**INPUT : 6 ➞ \"Loves me, Loves me not, Loves me, Loves me not, Loves me, LOVES ME NOT\"**\n",
        "\n",
        "**INPUT : 1 ➞ \"LOVES ME\"**"
      ]
    },
    {
      "cell_type": "code",
      "execution_count": null,
      "metadata": {
        "colab": {
          "base_uri": "https://localhost:8080/"
        },
        "id": "ldQFa55zC2gG",
        "outputId": "ded7a36d-1b2b-48a0-8444-bc576b931f05"
      },
      "outputs": [
        {
          "name": "stdout",
          "output_type": "stream",
          "text": [
            "5\n",
            "Loves me, Loves me not, Loves me, Loves me not, LOVES ME\n"
          ]
        }
      ],
      "source": [
        "n = int(input(\"\"))\n",
        "papatya = [\"Loves me\", \"Loves me not\" ]\n",
        "yeni_papatya = []\n",
        "if n == 1 :\n",
        "  print(papatya[0].upper())\n",
        "else:\n",
        "  for i in range(1,n + 1) :\n",
        "    if i % 2 == 1 :\n",
        "      yeni_papatya += [papatya[0]]\n",
        "    elif i % 2 == 0 :\n",
        "      yeni_papatya += [papatya[1]]\n",
        "  yeni_papatya  = yeni_papatya[:-1] + [yeni_papatya[-1].upper()]\n",
        "  print(\", \".join(yeni_papatya))"
      ]
    },
    {
      "cell_type": "markdown",
      "metadata": {
        "id": "PeYUQJoOUs-3"
      },
      "source": [
        "40\n",
        "**Given 2 arrays of ints, a and b, return True if they have the same first element or they have the same last element. Both arrays will be length 1 or more.**\n",
        "**(Without using for, if, while)**\n",
        "\n",
        "**[1, 2, 3], [7, 3] → True**\n",
        "\n",
        "**[1, 2, 3], [7, 3, 2] → False**\n",
        "\n",
        "**[1, 2, 3], [1, 3] → True**\n"
      ]
    },
    {
      "cell_type": "code",
      "execution_count": null,
      "metadata": {
        "colab": {
          "base_uri": "https://localhost:8080/"
        },
        "id": "uQe7siz_EqZx",
        "outputId": "e9d9edf8-21b4-418a-d6a6-8fd46f0993eb"
      },
      "outputs": [
        {
          "name": "stdout",
          "output_type": "stream",
          "text": [
            "False\n"
          ]
        }
      ],
      "source": [
        "lista = [1,2,3]\n",
        "listb = [7,3,2]\n",
        "print(lista[0] == listb[0] or lista[-1] == listb[-1])"
      ]
    },
    {
      "cell_type": "markdown",
      "metadata": {
        "id": "uZT3Py-xan9_"
      },
      "source": [
        "41\n",
        "**Group Anagrams**\n",
        "\n",
        "**Title:**\n",
        "**Given an array of strings, you can combine words with different letters. Alphabetic words refer to strings with the same letters but arranged differently.**\n",
        "\n",
        "\n",
        "**Given an array of strings, group anagrams together.**\n",
        "\n",
        "\n",
        "**Example:**\n",
        "\n",
        "**Input: [\"eat\", \"tea\", \"tan\", \"ate\", \"nat\", \"bat\"]**\n",
        "\n",
        "**Output:**\n",
        "\n",
        "**[\n",
        "\n",
        "  **[\"ate\",\"eat\",\"tea\"],**\n",
        "\n",
        "  **[\"nat\",\"tan\"],**\n",
        "\n",
        "  **[\"bat\"]**\n",
        "\n",
        "**]**\n",
        "\n",
        "**Explain:**\n",
        "\n",
        "**All inputs are lowercase.**\n",
        "**Do not consider the order of the answer output.**\n",
        "**Note:**\n",
        "\n",
        "**All inputs will be in lowercase.**\n",
        "**The order of your output does not matter.**"
      ]
    },
    {
      "cell_type": "code",
      "execution_count": null,
      "metadata": {
        "colab": {
          "base_uri": "https://localhost:8080/"
        },
        "id": "Wm8ohGkLemDh",
        "outputId": "bd8bd725-6e56-4b7e-e450-94cce16f2ee0"
      },
      "outputs": [
        {
          "name": "stdout",
          "output_type": "stream",
          "text": [
            "[['eat', 'tea', 'ate'], ['tan', 'nat'], ['bat'], ['cat', 'tac']]\n",
            "act\n"
          ]
        }
      ],
      "source": [
        "strs = [\"eat\", \"tea\", \"tan\", \"ate\", \"nat\", \"bat\", \"cat\", \"tac\"]\n",
        "group = {}\n",
        "\n",
        "for i in strs :\n",
        "  kelime = \"\".join(sorted(i))\n",
        "  if kelime in group :\n",
        "    group[kelime].append(i)\n",
        "  else :\n",
        "    group[kelime] = [i]\n",
        "\n",
        "print(list(group.values()))\n"
      ]
    },
    {
      "cell_type": "markdown",
      "metadata": {
        "id": "-cFeG-VD8QBT"
      },
      "source": [
        "42\n",
        "**Write a Python program to calculate the hypotenuse of a right angled triangle**"
      ]
    },
    {
      "cell_type": "code",
      "execution_count": null,
      "metadata": {
        "colab": {
          "base_uri": "https://localhost:8080/"
        },
        "id": "BV3MjpD1iAyT",
        "outputId": "45e6350c-7e0d-4a01-c47b-f04bdd960ace"
      },
      "outputs": [
        {
          "name": "stdout",
          "output_type": "stream",
          "text": [
            "3\n",
            "4\n",
            "5.0\n"
          ]
        }
      ],
      "source": [
        "x , y = int(input(\"\")), int(input(\"\")) \n",
        "print(((x **2) + (y ** 2)) ** 0.5)"
      ]
    },
    {
      "cell_type": "markdown",
      "metadata": {
        "id": "3qPHTVXY84sj"
      },
      "source": [
        "43\n",
        "**Write a Python program to test whether all numbers of a list is greater than a certain number.**"
      ]
    },
    {
      "cell_type": "code",
      "execution_count": null,
      "metadata": {
        "colab": {
          "base_uri": "https://localhost:8080/"
        },
        "id": "xqwq1BM3DD9W",
        "outputId": "ec6df96e-49f4-4525-8685-4fca8ade61a6"
      },
      "outputs": [
        {
          "name": "stdout",
          "output_type": "stream",
          "text": [
            "3 5 7 9 10 15\n",
            "2\n"
          ]
        },
        {
          "data": {
            "text/plain": [
              "True"
            ]
          },
          "execution_count": 3,
          "metadata": {},
          "output_type": "execute_result"
        }
      ],
      "source": [
        "lista = list(map(int, input(\"\").split()))\n",
        "number = int(input(\"\"))\n",
        "print(all([i > number for i in lista]))"
      ]
    },
    {
      "cell_type": "code",
      "execution_count": null,
      "metadata": {
        "colab": {
          "base_uri": "https://localhost:8080/"
        },
        "id": "-Q50wl3kZbVE",
        "outputId": "e5465d7c-361a-4c46-987a-a1160782f0d4"
      },
      "outputs": [
        {
          "name": "stdout",
          "output_type": "stream",
          "text": [
            "[1, 2, 3, 4]\n"
          ]
        }
      ],
      "source": [
        "liste = []\n",
        "for i in range(1,5):\n",
        "  liste += [i]\n",
        "print(liste)\n",
        "  "
      ]
    },
    {
      "cell_type": "code",
      "execution_count": null,
      "metadata": {
        "colab": {
          "base_uri": "https://localhost:8080/"
        },
        "id": "mUnL2x1JZbOm",
        "outputId": "fc49af6e-3a92-4486-dd3e-d58e0026ab12"
      },
      "outputs": [
        {
          "name": "stdout",
          "output_type": "stream",
          "text": [
            "5 6 89 2 45 63 47 12 11\n"
          ]
        },
        {
          "data": {
            "text/plain": [
              "[5, 6, 89, 2, 45, 63, 47, 12, 11]"
            ]
          },
          "execution_count": 5,
          "metadata": {},
          "output_type": "execute_result"
        }
      ],
      "source": [
        "lista = list(map(int, input(\"\").split()))\n"
      ]
    },
    {
      "cell_type": "code",
      "execution_count": null,
      "metadata": {
        "id": "EWm8swoPZbFl"
      },
      "outputs": [],
      "source": []
    },
    {
      "cell_type": "markdown",
      "metadata": {
        "id": "QLzckAY4MRyh"
      },
      "source": [
        "44\n",
        "**Python Program to Find the Factorial of a Number**\n",
        "**The factorial of a number is the product of all the integers from 1 to that number.**\n",
        "**For example, the factorial of 6 is 1*2*3*4*5*6 = 720. Factorial is not defined for negative numbers, and the factorial of zero is one, 0! = 1.**"
      ]
    },
    {
      "cell_type": "code",
      "execution_count": null,
      "metadata": {
        "colab": {
          "base_uri": "https://localhost:8080/"
        },
        "id": "U0GPz8ESE1tD",
        "outputId": "437181f1-982f-45b2-e1c0-7f7e12a12ab9"
      },
      "outputs": [
        {
          "name": "stdout",
          "output_type": "stream",
          "text": [
            "0\n",
            "0 faktoriyel 1 e eşittir.\n"
          ]
        }
      ],
      "source": [
        "n = int(input(\"\"))\n",
        "faktoriyel = 1\n",
        "if n < 0 :\n",
        "  print(\"Lütfen negatif sayı girmeyiniz! \")\n",
        "elif n == 0 :\n",
        "  print(\"0 faktoriyel 1 e eşittir.\")\n",
        "else :\n",
        "  for i in range(n,0,-1) :\n",
        "    faktoriyel *= i\n",
        "    print(\"{} faktoriyel {} sayısına eşittir.\".format(n, faktoriyel))\n"
      ]
    },
    {
      "cell_type": "markdown",
      "metadata": {
        "id": "xZ8MGVdiu-j6"
      },
      "source": [
        "45\n",
        "**Mark and Jane are very happy after having their first child. Their son loves toys, so Mark wants to buy some. There are a number of different toys lying in front of him, tagged with their prices. Mark has only a certain amount to spend, and he wants to maximize the number of toys he buys with this money. Given a list of toy prices and an amount to spend, determine the maximum number of gifts he can buy.**\n",
        "\n",
        "**Note Each toy can be purchased only once.**\n",
        "\n",
        "**Example**\n",
        "\n",
        "\n",
        "The budget is  units of currency. He can buy items that cost  for , or  for  units. The maximum is  items.\n",
        "\n",
        "Function Description\n",
        "\n",
        "Complete the function maximumToys in the editor below.\n",
        "\n",
        "maximumToys has the following parameter(s):\n",
        "\n",
        "int prices[n]: the toy prices\n",
        "int k: Mark's budget\n",
        "Returns\n",
        "\n",
        "int: the maximum number of toys\n",
        "Input Format\n",
        "\n",
        "The first line contains two integers,  and , the number of priced toys and the amount Mark has to spend.\n",
        "The next line contains  space-separated integers \n",
        "\n",
        "Constraints\n",
        "\n",
        "\n",
        "\n",
        "\n",
        "A toy can't be bought multiple times.\n",
        "\n",
        "Sample Input\n",
        "\n",
        "7 50\n",
        "\n",
        "1 12 5 111 200 1000 10\n",
        "\n",
        "Sample Output\n",
        "\n",
        "4\n",
        "Explanation\n",
        "\n",
        "**He can buy only  toys at most. These toys have the following prices: .**"
      ]
    },
    {
      "cell_type": "code",
      "execution_count": null,
      "metadata": {
        "colab": {
          "base_uri": "https://localhost:8080/"
        },
        "id": "GmrJFA0umCJn",
        "outputId": "07f737b7-e15a-4e87-dda1-8134e7ed1d9a"
      },
      "outputs": [
        {
          "name": "stdout",
          "output_type": "stream",
          "text": [
            "7 50\n",
            "1 12 5 111 200 1000 10\n",
            "4\n"
          ]
        }
      ],
      "source": [
        "n, k = list(map(int, input(\"\").split()))\n",
        "prices = list(map(int, input(\"\").split()))\n",
        "count = 0\n",
        "total = 0\n",
        "\n",
        "for i in sorted(prices) :\n",
        "  if total + i <= k :\n",
        "    count +=1\n",
        "    total += i\n",
        "  else:\n",
        "    break\n",
        "\n",
        "print(count)\n",
        "\n"
      ]
    },
    {
      "cell_type": "markdown",
      "metadata": {
        "id": "TySiN4bdKw0p"
      },
      "source": [
        "![image.png](data:image/png;base64,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)"
      ]
    },
    {
      "cell_type": "code",
      "execution_count": null,
      "metadata": {
        "colab": {
          "base_uri": "https://localhost:8080/"
        },
        "id": "ZST46STxKwW5",
        "outputId": "13b625da-8f3b-4f40-f368-c2a13980cb24"
      },
      "outputs": [
        {
          "name": "stdout",
          "output_type": "stream",
          "text": [
            "Ynf\n",
            "PYnative\n",
            "False\n"
          ]
        }
      ],
      "source": [
        "# 46 ..\n",
        "s1, s2 = input(\"\"), input(\"\")\n",
        "print(s1 in s2)\n"
      ]
    },
    {
      "cell_type": "markdown",
      "metadata": {
        "id": "oflYgdauqm-1"
      },
      "source": [
        "47\n",
        "**Write Python codes that calculate the digits of pascal's triangle as many as the number of digits received from the user.**\n",
        "\n",
        "**İnput:6**\n",
        "\n",
        "**Output:**\n",
        "\n",
        "**[1]**\n",
        "\n",
        "**[1, 1]**\n",
        "\n",
        "**[1, 2, 1]**\n",
        "\n",
        "**[1, 3, 3, 1]**\n",
        "\n",
        "**[1, 4, 6, 4, 1]**\n",
        "\n",
        "**[1, 5, 10, 10, 5, 1]**\n"
      ]
    },
    {
      "cell_type": "code",
      "execution_count": null,
      "metadata": {
        "colab": {
          "base_uri": "https://localhost:8080/"
        },
        "id": "qTv5CatPQGn0",
        "outputId": "a9c21ee4-2310-430b-c6d7-cb06239b0a75"
      },
      "outputs": [
        {
          "name": "stdout",
          "output_type": "stream",
          "text": [
            "5\n",
            "['1']\n",
            "['1', '1']\n",
            "['1', '2', '1']\n",
            "['1', '3', '3', '1']\n",
            "['1', '4', '6', '4', '1']\n"
          ]
        }
      ],
      "source": [
        "n = int(input(\"\"))\n",
        "for i in range(n) :\n",
        "  print(list(str(11 ** i)))"
      ]
    },
    {
      "cell_type": "code",
      "execution_count": null,
      "metadata": {
        "id": "XmV-t9wnU8V2"
      },
      "outputs": [],
      "source": [
        "pascal =[[1],[1,1]]\n",
        "for i in range(2,10):\n",
        "  liste=[1]\n",
        "  for j in range(1,i):\n",
        "    liste.append(pascal[i-1][j-1]+pascal[i-1][j])\n",
        "  liste.append(1)\n",
        "  pascal.append(liste)\n",
        "for i in pascal:\n",
        "  print(i) \n"
      ]
    },
    {
      "cell_type": "markdown",
      "metadata": {
        "id": "RTWHmKxluA7T"
      },
      "source": [
        "**![image.png](data:image/png;base64,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)**"
      ]
    },
    {
      "cell_type": "markdown",
      "metadata": {
        "id": "6CJtMsTNuGcf"
      },
      "source": [
        "48 \n",
        "**Given a number N, the task is to print the prime numbers from 1 to N.**\n",
        "\n",
        "**Examples:**\n",
        "\n",
        "**Input: N = 10**\n",
        "\n",
        "**Output: 2, 3, 5, 7**\n",
        "\n",
        "\n",
        "**Input: N = 5**\n",
        "\n",
        "**Output: 2, 3, 5**\n",
        "\n",
        "**A prime number is a natural number greater than 1, which is only divisible by 1 and itself.**"
      ]
    },
    {
      "cell_type": "code",
      "execution_count": null,
      "metadata": {
        "colab": {
          "base_uri": "https://localhost:8080/"
        },
        "id": "U82rVYrSsT7V",
        "outputId": "840f1d18-7383-4842-9616-1cff3d9bb6dd"
      },
      "outputs": [
        {
          "name": "stdout",
          "output_type": "stream",
          "text": [
            "2\n",
            "2\n"
          ]
        }
      ],
      "source": [
        "prime = [2]\n",
        "n = int(input(\"\"))\n",
        "for i in range(3,n+1) :\n",
        "  for j in range(2,i) :\n",
        "    if i % j == 0 :\n",
        "      break\n",
        "  else :\n",
        "    prime += [i]\n",
        "\n",
        "print(\",\".join([str(k) for k in prime]))"
      ]
    },
    {
      "cell_type": "markdown",
      "metadata": {
        "id": "33n_MUYn5w0B"
      },
      "source": [
        "![image.png](data:image/png;base64,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)"
      ]
    },
    {
      "cell_type": "code",
      "execution_count": null,
      "metadata": {
        "colab": {
          "base_uri": "https://localhost:8080/"
        },
        "id": "7fx-k6srx2dk",
        "outputId": "2d0df3b3-f9f7-4b69-c18a-1c2cd144e857"
      },
      "outputs": [
        {
          "name": "stdout",
          "output_type": "stream",
          "text": [
            "10 20 20 10 10 30 50 10 20\n",
            "3\n"
          ]
        }
      ],
      "source": [
        "# 49\n",
        "socks = list(map(int, input(\"\").split()))\n",
        "socks_dict = {}\n",
        "for i in set(socks) :\n",
        "  socks_dict[i] = socks.count(i)\n",
        "\n",
        "pairs = 0\n",
        "for j in socks_dict.values() :\n",
        "  pairs += j // 2\n",
        "print(pairs)"
      ]
    },
    {
      "cell_type": "markdown",
      "metadata": {
        "id": "eEYT93RFLq13"
      },
      "source": [
        "50\n",
        "**Write a program that shows which letter is used how many times in the text received from the user.**"
      ]
    },
    {
      "cell_type": "code",
      "execution_count": null,
      "metadata": {
        "colab": {
          "base_uri": "https://localhost:8080/"
        },
        "id": "tTNLxOmK6mxE",
        "outputId": "c030c69e-d7dd-4c25-acb9-adda903a2b62"
      },
      "outputs": [
        {
          "name": "stdout",
          "output_type": "stream",
          "text": [
            "ey edip adanada pide ye\n",
            "{'e': 4, 'y': 2, ' ': 4, 'd': 4, 'i': 2, 'p': 2, 'a': 4, 'n': 1}\n"
          ]
        }
      ],
      "source": [
        "text = input(\"\")\n",
        "dict_text = {}\n",
        "for i in text :\n",
        "  if i not in dict_text :\n",
        "    dict_text[i] = 1\n",
        "  else :\n",
        "    dict_text[i] += 1\n"
      ]
    },
    {
      "cell_type": "markdown",
      "metadata": {
        "id": "vJG2J3TmNHf2"
      },
      "source": [
        "51 \n",
        "**how many of the first 10,000 prime numbers start with 3 and end with 7?**"
      ]
    },
    {
      "cell_type": "code",
      "execution_count": null,
      "metadata": {
        "colab": {
          "base_uri": "https://localhost:8080/"
        },
        "id": "mKut8oR6MWR7",
        "outputId": "8e9078fe-be12-4981-ca0d-d82b1fdeb689"
      },
      "outputs": [
        {
          "name": "stdout",
          "output_type": "stream",
          "text": [
            "270\n"
          ]
        }
      ],
      "source": [
        "asal_sayılar = [1,2]\n",
        "num = 3\n",
        "while len(asal_sayılar)<10000:\n",
        "    for i in range(2,num):\n",
        "        if num%i==0:\n",
        "            break\n",
        "    else:\n",
        "        asal_sayılar.append(num)\n",
        "    num+=1\n",
        "\n",
        "print(len([i for i in asal_sayılar if str(i).startswith(\"3\") and str(i).endswith(\"7\")]))"
      ]
    },
    {
      "cell_type": "markdown",
      "metadata": {
        "id": "wUEAmv5NNpY_"
      },
      "source": [
        "52\n",
        "**How many of the 3-digit numbers are equal to the sum of the cubes of their digits.**\n",
        "\n",
        "**3 basamaklı sayıların kaç tanesi rakamlarının küplerinin toplamına eşittir.**"
      ]
    },
    {
      "cell_type": "code",
      "execution_count": null,
      "metadata": {
        "colab": {
          "base_uri": "https://localhost:8080/"
        },
        "id": "P8lIqL7LNtk_",
        "outputId": "8ccad1f9-891f-4a87-b955-8035f1f6033c"
      },
      "outputs": [
        {
          "name": "stdout",
          "output_type": "stream",
          "text": [
            "153\n",
            "370\n",
            "371\n",
            "407\n",
            "4\n"
          ]
        }
      ],
      "source": [
        "toplam = 0\n",
        "counter = 0\n",
        "for i in range(100, 1000) :\n",
        "  for j in str(i) :\n",
        "    toplam = toplam + int(j) ** 3\n",
        "  if i == toplam :\n",
        "    counter += 1\n",
        "    print(toplam)\n",
        "  toplam = 0\n",
        "print(counter)"
      ]
    },
    {
      "cell_type": "markdown",
      "metadata": {
        "id": "XWFCQTnhhBI3"
      },
      "source": [
        "53\n",
        "**The Fibonacci sequence of numbers is a sequence of numbers whose first two terms are 1 and each subsequent term is the sum of the two preceding terms.**\n",
        "\n",
        "**Print the first 100 Fibonacci numbers to the screen.**\n",
        "\n",
        "**Fibonacci sayı dizisi ilk iki terimi 1 olan ve sonraki her terimi kendisinden önce gelen iki terimin toplamı olan sayı dizisidir. ilk 100 fibonacci sayısını ekrana yazdırınız.**"
      ]
    },
    {
      "cell_type": "code",
      "execution_count": null,
      "metadata": {
        "colab": {
          "base_uri": "https://localhost:8080/"
        },
        "id": "rlRTV1-KOYUn",
        "outputId": "74cfcc3e-e103-419a-ef1d-b9600b6a58a6"
      },
      "outputs": [
        {
          "name": "stdout",
          "output_type": "stream",
          "text": [
            "[0, 1, 1, 2, 3, 5, 8, 13, 21, 34, 55, 89, 144, 233, 377, 610, 987, 1597, 2584, 4181, 6765, 10946, 17711, 28657, 46368, 75025, 121393, 196418, 317811, 514229, 832040, 1346269, 2178309, 3524578, 5702887, 9227465, 14930352, 24157817, 39088169, 63245986, 102334155, 165580141, 267914296, 433494437, 701408733, 1134903170, 1836311903, 2971215073, 4807526976, 7778742049, 12586269025, 20365011074, 32951280099, 53316291173, 86267571272, 139583862445, 225851433717, 365435296162, 591286729879, 956722026041, 1548008755920, 2504730781961, 4052739537881, 6557470319842, 10610209857723, 17167680177565, 27777890035288, 44945570212853, 72723460248141, 117669030460994, 190392490709135, 308061521170129, 498454011879264, 806515533049393, 1304969544928657, 2111485077978050, 3416454622906707, 5527939700884757, 8944394323791464, 14472334024676221, 23416728348467685, 37889062373143906, 61305790721611591, 99194853094755497, 160500643816367088, 259695496911122585, 420196140727489673, 679891637638612258, 1100087778366101931, 1779979416004714189, 2880067194370816120, 4660046610375530309, 7540113804746346429, 12200160415121876738, 19740274219868223167, 31940434634990099905, 51680708854858323072, 83621143489848422977, 135301852344706746049, 218922995834555169026]\n",
            "100\n"
          ]
        }
      ],
      "source": [
        "a,b = 0,1\n",
        "fibonacci = [a,b]\n",
        "for i in range(98) :\n",
        "  a,b = b,a+ b\n",
        "  fibonacci += [b]\n",
        "print(fibonacci)\n",
        "print(len(fibonacci))\n"
      ]
    },
    {
      "cell_type": "markdown",
      "metadata": {
        "id": "65w_G8fUhP5m"
      },
      "source": [
        "54 \n",
        "**Write down the first Fibonacci number with 100 digits and what Fibonacci number it is.**\n",
        "\n",
        "**100 basamaklı ilk fibonacci sayısını ve kaçıncı fibonacci sayısı olduğunu yazınız.**"
      ]
    },
    {
      "cell_type": "code",
      "execution_count": null,
      "metadata": {
        "colab": {
          "base_uri": "https://localhost:8080/"
        },
        "id": "2TZvYgRdj74M",
        "outputId": "e12d4091-b4ab-49b7-a9e7-6a114ed0e5a5"
      },
      "outputs": [
        {
          "name": "stdout",
          "output_type": "stream",
          "text": [
            "100\n",
            "1344719667586153181419716641724567886890850696275767987106294472017884974410332069524504824747437757\n",
            "476\n"
          ]
        }
      ],
      "source": [
        "a,b = 0,1\n",
        "fibonacci = [a,b]\n",
        "while len(str(b)) != 100 :\n",
        "  a,b = b,a+ b\n",
        "  fibonacci += [b]\n",
        "  if len(str(b)) == 100 :\n",
        "    fibonacci += [b]\n",
        "    break\n",
        "print(len(str(fibonacci[-1])))\n",
        "print(fibonacci[-1])\n",
        "print(fibonacci.index(fibonacci[-1]))\n"
      ]
    },
    {
      "cell_type": "markdown",
      "metadata": {
        "id": "RIf84OGCseFc"
      },
      "source": [
        "![image.png](data:image/png;base64,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)"
      ]
    },
    {
      "cell_type": "markdown",
      "metadata": {
        "id": "2HZ1l7JSshZQ"
      },
      "source": [
        "**Sample Input**\n",
        "\n",
        "**8**\n",
        "\n",
        "**UDDDUDUU**\n",
        "\n",
        "**Sample Output**\n",
        "\n",
        "**1**"
      ]
    },
    {
      "cell_type": "code",
      "execution_count": null,
      "metadata": {
        "colab": {
          "base_uri": "https://localhost:8080/"
        },
        "id": "me6uJPEabl_n",
        "outputId": "9b41592c-c3c4-45e0-932c-8434b25f54b3"
      },
      "outputs": [
        {
          "data": {
            "text/plain": [
              "3"
            ]
          },
          "execution_count": 37,
          "metadata": {},
          "output_type": "execute_result"
        }
      ],
      "source": [
        "# 55..\n",
        "steps = \"UUUDDDDDDUUUDUDU\"\n",
        "seaLevel = valley = 0\n",
        "\n",
        "for step in steps:\n",
        "  if step == 'D':\n",
        "    seaLevel += 1\n",
        "  else:\n",
        "    seaLevel -= 1\n",
        "  if step == 'U' and seaLevel == 0:\n",
        "    valley += 1\n",
        "    \n",
        "valley"
      ]
    },
    {
      "cell_type": "markdown",
      "metadata": {
        "id": "jybFuSTGkKiN"
      },
      "source": [
        "56 **Given a string s, return the longest palindromic substring in s.**\n",
        "\n",
        "Example 1:\n",
        "\n",
        "Input: s = \"babad\"\n",
        "\n",
        "Output: \"bab\"\n",
        "\n",
        "Note: \"aba\" is also a valid answer.\n",
        "\n",
        "Example 2:\n",
        "\n",
        "Input: s = \"cbbd\"\n",
        "\n",
        "Output: \"bb\"\n"
      ]
    },
    {
      "cell_type": "code",
      "execution_count": null,
      "metadata": {
        "colab": {
          "base_uri": "https://localhost:8080/",
          "height": 53
        },
        "id": "5mKERxMuZmP_",
        "outputId": "e2257e2f-faff-448c-bfc7-e8901013baac"
      },
      "outputs": [
        {
          "name": "stdout",
          "output_type": "stream",
          "text": [
            "cbbd\n"
          ]
        },
        {
          "data": {
            "application/vnd.google.colaboratory.intrinsic+json": {
              "type": "string"
            },
            "text/plain": [
              "'bb'"
            ]
          },
          "execution_count": 32,
          "metadata": {},
          "output_type": "execute_result"
        }
      ],
      "source": [
        "max_len = 0\n",
        "max_sub = \"\"\n",
        "s = input(\"\")\n",
        "for i in range(len(s)) :\n",
        "  for j in range(1, len(s)+1):\n",
        "    substring = s[i:j]\n",
        "    if (substring == substring[::-1]) and (len(substring)> max_len) :\n",
        "      max_sub = substring\n",
        "      max_len = len(substring)\n",
        "\n",
        "max_sub"
      ]
    },
    {
      "cell_type": "markdown",
      "metadata": {
        "id": "RKCD8AZ4rOcO"
      },
      "source": [
        "57 **Given a string s consisting of some words separated by some number of spaces, return the length of the last word in the string.**\n",
        "\n",
        "\n",
        "**A word is a maximal substring consisting of non-space characters only.**\n",
        "\n",
        " \n",
        "\n",
        "**Example 1:**\n",
        "\n",
        "\n",
        "**Input: s = \"Hello World\"**\n",
        "\n",
        "**Output: 5**\n",
        "\n",
        "**Explanation: The last word is \"World\" with length 5.**\n",
        "\n",
        "**Example 2:**\n",
        "\n",
        "\n",
        "**Input: s = \"      fly me     to      the moon    \"**\n",
        "\n",
        "**Output: 4**\n",
        "\n",
        "**Explanation: The last word is \"moon\" with length 4.**\n",
        "\n",
        "**Example 3:**\n",
        "\n",
        "\n",
        "**Input: s = \"luffy is still joyboy\"**\n",
        "\n",
        "**Output: 6**\n",
        "\n",
        "**Explanation: The last word is \"joyboy\" with length 6.**"
      ]
    },
    {
      "cell_type": "code",
      "execution_count": null,
      "metadata": {
        "colab": {
          "base_uri": "https://localhost:8080/"
        },
        "id": "njczb0UIoxX5",
        "outputId": "cecdb45a-3a4f-4903-afe7-d50d38c8d94d"
      },
      "outputs": [
        {
          "name": "stdout",
          "output_type": "stream",
          "text": [
            "   fly me   to   the moon  \n",
            "4\n"
          ]
        }
      ],
      "source": [
        "s = input(\"\").strip().split()\n",
        "print(len(s[-1]))"
      ]
    },
    {
      "cell_type": "markdown",
      "metadata": {},
      "source": []
    },
    {
      "cell_type": "markdown",
      "metadata": {
        "id": "9wUQD6q7KdFT"
      },
      "source": [
        "![image.png](data:image/png;base64,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)"
      ]
    },
    {
      "cell_type": "code",
      "execution_count": null,
      "metadata": {
        "colab": {
          "base_uri": "https://localhost:8080/"
        },
        "id": "Zo1o--U70D4q",
        "outputId": "c92c43de-7a40-4a5c-fbaa-3ca0be4a045a"
      },
      "outputs": [
        {
          "name": "stdout",
          "output_type": "stream",
          "text": [
            "[8, 9, 9, 9, 0, 0, 0, 0, 0, 1]\n"
          ]
        }
      ],
      "source": [
        "# 58 ..\n",
        "liste1 = [9,9,9,9,9,9,9,9,9]\n",
        "liste2 = [9,9,9,9]\n",
        "\n",
        "str_liste1 = \"\".join([str(i) for i in liste1[::-1]])\n",
        "str_liste2= \"\".join([str(j) for j in liste2[::-1]])\n",
        "\n",
        "print([int(i) for i in (str(int(str_liste2) + int(str_liste1)))[::-1]])\n"
      ]
    },
    {
      "cell_type": "markdown",
      "metadata": {
        "id": "2PtRX7IVPVDE"
      },
      "source": [
        "59 **Write a program that square every digit of a number and concatenate them.\n",
        "For example, if we run 9119 through the function, 811181 will come out, because 92 is 81 and 12 is 1.**"
      ]
    },
    {
      "cell_type": "code",
      "execution_count": null,
      "metadata": {
        "colab": {
          "base_uri": "https://localhost:8080/"
        },
        "id": "chuW9wccM7BG",
        "outputId": "3e20ca96-df6c-4fab-fd6a-8ba798619d82"
      },
      "outputs": [
        {
          "name": "stdout",
          "output_type": "stream",
          "text": [
            "9119\n",
            "811181\n"
          ]
        }
      ],
      "source": [
        "num  = input(\"\")\n",
        "print(\"\".join([str(i) for i in [int(i) ** 2 for i in num]]))"
      ]
    },
    {
      "cell_type": "markdown",
      "metadata": {
        "id": "KzN-y6mNvM4w"
      },
      "source": [
        "60 **Write a program that  given a string and replace every letter with its position in the alphabet.**\n",
        "\n",
        "**If anything in the text isn't a letter, ignore it and don't return it.\n",
        "\"a\" = 1, \"b\" = 2, etc.**\n",
        "\n",
        "**Example alphabet_position(\"The sunset sets at twelve o' clock.\") Should return \"20 8 5 19 21 14 19 5 20 19 5 20 19 1 20 20 23 5 12 22 5 15 3 12 15 3 11\"**"
      ]
    },
    {
      "cell_type": "code",
      "execution_count": 9,
      "metadata": {
        "colab": {
          "base_uri": "https://localhost:8080/"
        },
        "id": "rF2fyqe6vfTu",
        "outputId": "6974f235-cde0-4659-e081-da0502fd5ce1"
      },
      "outputs": [
        {
          "name": "stdout",
          "output_type": "stream",
          "text": [
            "The sunset\n",
            "20 8 5 19 21 14 19 5 20\n"
          ]
        }
      ],
      "source": [
        "alpha = \"abcdefghijklmnopqrstuvwxyz\"\n",
        "string = input(\"\").lower()\n",
        "print(* [alpha.index(i)+1 for i in string if i.isalpha()])\n"
      ]
    },
    {
      "cell_type": "code",
      "execution_count": null,
      "metadata": {
        "id": "g3oFcYU5vyg0"
      },
      "outputs": [],
      "source": [
        "Exercise -61\n",
        "\n",
        "Given a string s, return True if s is a good string, or False otherwise.\n",
        "A string s is good if all the characters that appear in s have the same number of occurrences (i.e., the same frequency).\n",
        "Example 1:\n",
        "Input: s = \"abacbc\"\n",
        "Output: True\n",
        "Explanation: The characters that appear in s are 'a', 'b', and 'c'. All characters occur 2 times in s.\n",
        "Example 2:\n",
        "Input: s = \"aaabb\"\n",
        "Output: False\n",
        "Explanation: The characters that appear in s are 'a' and 'b'.\n",
        "'a' occurs 3 times while 'b' occurs 2 times, which is not the same number of times.\n"
      ]
    },
    {
      "cell_type": "code",
      "execution_count": 1,
      "metadata": {},
      "outputs": [
        {
          "name": "stdout",
          "output_type": "stream",
          "text": [
            "False\n"
          ]
        }
      ],
      "source": [
        "s = input(\"\")\n",
        "s_dict = {}\n",
        "\n",
        "for i in s :\n",
        "  if i in s_dict :\n",
        "    s_dict[i] +=1\n",
        "  else :\n",
        "    s_dict[i] = 1\n",
        "  \n",
        "print(len(set(s_dict.values())) == 1)\n"
      ]
    },
    {
      "cell_type": "markdown",
      "metadata": {},
      "source": [
        "Exercise – 62\n",
        "\n",
        "A square triple (a,b,c) is a triple where a, b, and c are integers and a2 + b2 = c2.\n",
        "Given an integer n, return the number of square triples such that 1 <= a, b, c <= n.Example 1:\n",
        "Input: n = 5\n",
        "Output: 2\n",
        "Explanation: The square triples are (3,4,5) and (4,3,5).\n",
        "Example 2:\n",
        "Input: n = 10\n",
        "Output: 4\n",
        "Explanation: The square triples are (3,4,5), (4,3,5), (6,8,10), and (8,6,10).\n"
      ]
    },
    {
      "cell_type": "code",
      "execution_count": null,
      "metadata": {},
      "outputs": [],
      "source": [
        "n = int(input(\"\"))\n",
        "counter = 0\n",
        "\n",
        "for i in range(1,n+1) :\n",
        "  for j in range(1,n+1) :\n",
        "    for k in range(1,n+1) :\n",
        "      if i ** 2 + j ** 2 == k ** 2 :\n",
        "        counter += 1\n",
        "print(counter)\n"
      ]
    },
    {
      "cell_type": "code",
      "execution_count": 3,
      "metadata": {},
      "outputs": [
        {
          "ename": "SyntaxError",
          "evalue": "invalid character '–' (U+2013) (Temp/ipykernel_3672/973712574.py, line 1)",
          "output_type": "error",
          "traceback": [
            "\u001b[1;36m  File \u001b[1;32m\"C:\\Users\\acer\\AppData\\Local\\Temp/ipykernel_3672/973712574.py\"\u001b[1;36m, line \u001b[1;32m1\u001b[0m\n\u001b[1;33m    Exercise – 63\u001b[0m\n\u001b[1;37m             ^\u001b[0m\n\u001b[1;31mSyntaxError\u001b[0m\u001b[1;31m:\u001b[0m invalid character '–' (U+2013)\n"
          ]
        }
      ],
      "source": []
    },
    {
      "cell_type": "code",
      "execution_count": null,
      "metadata": {},
      "outputs": [],
      "source": [
        "Exercise – 63\n",
        "Lets make a username and password to login an account.\n",
        "Firstly define the username and password then take inputs for this two argument from user.\n",
        "Design python program 3 possibilities that first one is True user name and password, \n",
        "second is wrong username input and third is wrong password input. Then finish with try again output\n"
      ]
    },
    {
      "cell_type": "code",
      "execution_count": null,
      "metadata": {},
      "outputs": [],
      "source": [
        "name = input(\"Lütfen isminizi giriniz :\")\n",
        "password = input(\"Lütfen şifrenizi giriniz :\")\n",
        "\n",
        "while True :\n",
        "  if name == \"Melek\" and password == \"1234\" :\n",
        "    print(\"Başarılı bir şekilde giriş yaptınız!\")\n",
        "    break\n",
        "  elif name != \"Melek\" and password == \"1234\" :\n",
        "    print(\"Lütfen kullanıcı isminizi kontrol ediniz!\")\n",
        "    name = input(\"Lütfen isminizi giriniz :\")\n",
        "    password = input(\"Lütfen şifrenizi giriniz :\")\n",
        "  elif name != \"Melek\" and password != \"1234\" :\n",
        "    print(\"Lütfen kullanıcı isminizi ve şifrenizi kontrol ediniz!\")\n",
        "    name = input(\"Lütfen isminizi giriniz :\")\n",
        "    password = input(\"Lütfen şifrenizi giriniz :\")\n"
      ]
    },
    {
      "cell_type": "markdown",
      "metadata": {},
      "source": []
    },
    {
      "cell_type": "markdown",
      "metadata": {},
      "source": []
    }
  ],
  "metadata": {
    "colab": {
      "collapsed_sections": [],
      "name": "PYTHON-ADDICT.ipynb",
      "provenance": []
    },
    "interpreter": {
      "hash": "43435a050d4ac362dc4b1b4851a0333547cf4819a4e47175b9a0f2919a9b0b1b"
    },
    "kernelspec": {
      "display_name": "Python 3.9.7 64-bit",
      "name": "python3"
    },
    "language_info": {
      "codemirror_mode": {
        "name": "ipython",
        "version": 3
      },
      "file_extension": ".py",
      "mimetype": "text/x-python",
      "name": "python",
      "nbconvert_exporter": "python",
      "pygments_lexer": "ipython3",
      "version": "3.9.7"
    }
  },
  "nbformat": 4,
  "nbformat_minor": 0
}
